{
 "cells": [
  {
   "cell_type": "code",
   "execution_count": 1,
   "id": "fd9523cd",
   "metadata": {},
   "outputs": [
    {
     "data": {
      "text/html": [
       "<div>\n",
       "<style scoped>\n",
       "    .dataframe tbody tr th:only-of-type {\n",
       "        vertical-align: middle;\n",
       "    }\n",
       "\n",
       "    .dataframe tbody tr th {\n",
       "        vertical-align: top;\n",
       "    }\n",
       "\n",
       "    .dataframe thead th {\n",
       "        text-align: right;\n",
       "    }\n",
       "</style>\n",
       "<table border=\"1\" class=\"dataframe\">\n",
       "  <thead>\n",
       "    <tr style=\"text-align: right;\">\n",
       "      <th></th>\n",
       "      <th>Channel</th>\n",
       "      <th>Region</th>\n",
       "      <th>Fresh</th>\n",
       "      <th>Milk</th>\n",
       "      <th>Grocery</th>\n",
       "      <th>Frozen</th>\n",
       "      <th>Detergents_Paper</th>\n",
       "      <th>Delicassen</th>\n",
       "    </tr>\n",
       "  </thead>\n",
       "  <tbody>\n",
       "    <tr>\n",
       "      <th>0</th>\n",
       "      <td>2</td>\n",
       "      <td>3</td>\n",
       "      <td>12669</td>\n",
       "      <td>9656</td>\n",
       "      <td>7561</td>\n",
       "      <td>214</td>\n",
       "      <td>2674</td>\n",
       "      <td>1338</td>\n",
       "    </tr>\n",
       "    <tr>\n",
       "      <th>1</th>\n",
       "      <td>2</td>\n",
       "      <td>3</td>\n",
       "      <td>7057</td>\n",
       "      <td>9810</td>\n",
       "      <td>9568</td>\n",
       "      <td>1762</td>\n",
       "      <td>3293</td>\n",
       "      <td>1776</td>\n",
       "    </tr>\n",
       "    <tr>\n",
       "      <th>2</th>\n",
       "      <td>2</td>\n",
       "      <td>3</td>\n",
       "      <td>6353</td>\n",
       "      <td>8808</td>\n",
       "      <td>7684</td>\n",
       "      <td>2405</td>\n",
       "      <td>3516</td>\n",
       "      <td>7844</td>\n",
       "    </tr>\n",
       "    <tr>\n",
       "      <th>3</th>\n",
       "      <td>1</td>\n",
       "      <td>3</td>\n",
       "      <td>13265</td>\n",
       "      <td>1196</td>\n",
       "      <td>4221</td>\n",
       "      <td>6404</td>\n",
       "      <td>507</td>\n",
       "      <td>1788</td>\n",
       "    </tr>\n",
       "    <tr>\n",
       "      <th>4</th>\n",
       "      <td>2</td>\n",
       "      <td>3</td>\n",
       "      <td>22615</td>\n",
       "      <td>5410</td>\n",
       "      <td>7198</td>\n",
       "      <td>3915</td>\n",
       "      <td>1777</td>\n",
       "      <td>5185</td>\n",
       "    </tr>\n",
       "  </tbody>\n",
       "</table>\n",
       "</div>"
      ],
      "text/plain": [
       "   Channel  Region  Fresh  Milk  Grocery  Frozen  Detergents_Paper  Delicassen\n",
       "0        2       3  12669  9656     7561     214              2674        1338\n",
       "1        2       3   7057  9810     9568    1762              3293        1776\n",
       "2        2       3   6353  8808     7684    2405              3516        7844\n",
       "3        1       3  13265  1196     4221    6404               507        1788\n",
       "4        2       3  22615  5410     7198    3915              1777        5185"
      ]
     },
     "execution_count": 1,
     "metadata": {},
     "output_type": "execute_result"
    }
   ],
   "source": [
    "# 1. Import Libraries\n",
    "import pandas as pd\n",
    "import numpy as np\n",
    "import seaborn as sns\n",
    "import matplotlib.pyplot as plt\n",
    "from sklearn.preprocessing import StandardScaler\n",
    "from sklearn.cluster import KMeans, DBSCAN, AgglomerativeClustering\n",
    "from scipy.cluster.hierarchy import dendrogram, linkage\n",
    "import plotly.express as px\n",
    "import warnings\n",
    "warnings.filterwarnings('ignore')\n",
    "\n",
    "# 2. Load Data\n",
    "df = pd.read_csv('C:/Users/yadav/Documents/Projects/ML-Algorithms-Tutorial/datasets/clustering/wholesale_customers.csv')  # Adjust path if needed\n",
    "df.columns = ['Channel', 'Region', 'Fresh', 'Milk', 'Grocery', 'Frozen', 'Detergents_Paper', 'Delicassen']\n",
    "df.head()\n"
   ]
  },
  {
   "cell_type": "code",
   "execution_count": 2,
   "id": "0055a779",
   "metadata": {},
   "outputs": [
    {
     "name": "stdout",
     "output_type": "stream",
     "text": [
      "          Channel      Region          Fresh          Milk       Grocery  \\\n",
      "count  440.000000  440.000000     440.000000    440.000000    440.000000   \n",
      "mean     1.322727    2.543182   12000.297727   5796.265909   7951.277273   \n",
      "std      0.468052    0.774272   12647.328865   7380.377175   9503.162829   \n",
      "min      1.000000    1.000000       3.000000     55.000000      3.000000   \n",
      "25%      1.000000    2.000000    3127.750000   1533.000000   2153.000000   \n",
      "50%      1.000000    3.000000    8504.000000   3627.000000   4755.500000   \n",
      "75%      2.000000    3.000000   16933.750000   7190.250000  10655.750000   \n",
      "max      2.000000    3.000000  112151.000000  73498.000000  92780.000000   \n",
      "\n",
      "             Frozen  Detergents_Paper    Delicassen  \n",
      "count    440.000000        440.000000    440.000000  \n",
      "mean    3071.931818       2881.493182   1524.870455  \n",
      "std     4854.673333       4767.854448   2820.105937  \n",
      "min       25.000000          3.000000      3.000000  \n",
      "25%      742.250000        256.750000    408.250000  \n",
      "50%     1526.000000        816.500000    965.500000  \n",
      "75%     3554.250000       3922.000000   1820.250000  \n",
      "max    60869.000000      40827.000000  47943.000000  \n"
     ]
    },
    {
     "data": {
      "image/png": "[encoded data removed]",
      "text/plain": [
       "<Figure size 1500x1500 with 42 Axes>"
      ]
     },
     "metadata": {},
     "output_type": "display_data"
    },
    {
     "data": {
      "image/png": "[encoded data removed]",
      "text/plain": [
       "<Figure size 640x480 with 2 Axes>"
      ]
     },
     "metadata": {},
     "output_type": "display_data"
    }
   ],
   "source": [
    "# 3. Exploratory Data Analysis (EDA)\n",
    "print(df.describe())\n",
    "sns.pairplot(df[['Fresh', 'Milk', 'Grocery', 'Frozen', 'Detergents_Paper', 'Delicassen']])\n",
    "plt.suptitle('Pairplot of Spending Features', y=1.02)\n",
    "plt.show()\n",
    "\n",
    "sns.heatmap(df.corr(), annot=True, cmap='coolwarm')\n",
    "plt.title(\"Correlation Heatmap\")\n",
    "plt.show()\n"
   ]
  },
  {
   "cell_type": "code",
   "execution_count": 3,
   "id": "ab2508a0",
   "metadata": {},
   "outputs": [],
   "source": [
    "# 4. Data Preprocessing: Standardization\n",
    "X = df.drop(['Channel', 'Region'], axis=1)\n",
    "scaler = StandardScaler()\n",
    "X_scaled = scaler.fit_transform(X)\n"
   ]
  },
  {
   "cell_type": "code",
   "execution_count": 4,
   "id": "96a7f068",
   "metadata": {},
   "outputs": [
    {
     "data": {
      "image/png": "[encoded data removed]",
      "text/plain": [
       "<Figure size 640x480 with 1 Axes>"
      ]
     },
     "metadata": {},
     "output_type": "display_data"
    }
   ],
   "source": [
    "# 5. KMeans Clustering\n",
    "inertias = []\n",
    "for k in range(1, 11):\n",
    "    kmeans = KMeans(n_clusters=k, random_state=42)\n",
    "    kmeans.fit(X_scaled)\n",
    "    inertias.append(kmeans.inertia_)\n",
    "\n",
    "plt.plot(range(1, 11), inertias, marker='o')\n",
    "plt.xlabel('Number of clusters')\n",
    "plt.ylabel('Inertia')\n",
    "plt.title('Elbow Method for Optimal k')\n",
    "plt.grid(True)\n",
    "plt.show()\n",
    "\n",
    "# Apply KMeans with k=3 (based on elbow curve)\n",
    "kmeans = KMeans(n_clusters=3, random_state=42)\n",
    "labels_kmeans = kmeans.fit_predict(X_scaled)\n",
    "df['KMeans_Cluster'] = labels_kmeans\n"
   ]
  },
  {
   "cell_type": "code",
   "execution_count": 5,
   "id": "ef31d27c",
   "metadata": {},
   "outputs": [],
   "source": [
    "# 6. DBSCAN Clustering\n",
    "dbscan = DBSCAN(eps=1.8, min_samples=5)\n",
    "labels_dbscan = dbscan.fit_predict(X_scaled)\n",
    "df['DBSCAN_Cluster'] = labels_dbscan\n"
   ]
  },
  {
   "cell_type": "code",
   "execution_count": 6,
   "id": "7c7714d4",
   "metadata": {},
   "outputs": [
    {
     "data": {
      "image/png": "[encoded data removed]",
      "text/plain": [
       "<Figure size 1000x600 with 1 Axes>"
      ]
     },
     "metadata": {},
     "output_type": "display_data"
    }
   ],
   "source": [
    "# 7. Hierarchical Clustering (Agglomerative)\n",
    "# Dendrogram\n",
    "linked = linkage(X_scaled, method='ward')\n",
    "plt.figure(figsize=(10, 6))\n",
    "dendrogram(linked, truncate_mode='lastp', p=12)\n",
    "plt.title('Dendrogram')\n",
    "plt.xlabel('Samples')\n",
    "plt.ylabel('Distance')\n",
    "plt.show()\n",
    "\n",
    "# Apply Agglomerative Clustering\n",
    "agglo = AgglomerativeClustering(n_clusters=3)\n",
    "labels_hier = agglo.fit_predict(X_scaled)\n",
    "df['Hierarchical_Cluster'] = labels_hier\n"
   ]
  },
  {
   "cell_type": "code",
   "execution_count": 7,
   "id": "62324351",
   "metadata": {},
   "outputs": [
    {
     "data": {
      "application/vnd.plotly.v1+json": {
       "config": {
        "plotlyServerURL": "https://plot.ly"
       },
       "data": [
        {
         "hovertemplate": "Cluster=0<br>PC1=%{x}<br>PC2=%{y}<extra></extra>",
         "legendgroup": "0",
         "marker": {
          "color": "#636efa",
          "symbol": "circle"
         },
         "mode": "markers",
         "name": "0",
         "orientation": "v",
         "showlegend": true,
         "type": "scatter",
         "x": {
          "bdata": "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",
          "dtype": "f8"
         },
         "xaxis": "x",
         "y": {
          "bdata": "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",
          "dtype": "f8"
         },
         "yaxis": "y"
        },
        {
         "hovertemplate": "Cluster=1<br>PC1=%{x}<br>PC2=%{y}<extra></extra>",
         "legendgroup": "1",
         "marker": {
          "color": "#EF553B",
          "symbol": "circle"
         },
         "mode": "markers",
         "name": "1",
         "orientation": "v",
         "showlegend": true,
         "type": "scatter",
         "x": {
          "bdata": "KspQoeZIxT9a1cIrPbnvP0zNQkXtnca/oTxqPrHr8z83uUSaRPXovwGCr3+lYta/sgfi6ZMIxr953WMwz/DovwYMw5c+WIe/+T04g60L0L9RVVTJU7/pvwknVdIM0vw/UShL9AE28T9YvXeCQHncvxRZh/V66L4/3Yr0h9Cl5L8G72ZU/ePov1G2wfxQZMS/PIrmpRGM7b8lYxv89bbQv2NGuSyEVry/OGbAH9DQDUCVQb9DFzEfQFhkgEDiIpY/64bhSaEO6D9FrRWdfLbgv6Smu8DSE9O/VhoOEXTh8b/6SNHJBXjWv50RvwtMIM+/4yFZgDjY6L+2fn7IcmnUv3DuPsMf6/C/sXPDDUxb27+9X4lT2K/mv95bDvFEE9E/S7EVuCmW77/ge5PMa8/zvxmz8KhmHQBA0W5uK00o5r9eInhNJPzcv6Fh9XswdOm/+JHmjqDM6L8Y6Qmpy8rKPzFi4MvOv9u/TPIHHKyZ5r8m10DrkSTYv/4B8K4f/MS/cC3hD9Ce57/PGljtt/DgP6FEJBGlPNG/7C3msPnb6z/2zD7AceHsvw==",
          "dtype": "f8"
         },
         "xaxis": "x",
         "y": {
          "bdata": "JBDz4cpX9D+oMNM4+/LlP6X81RdVJgFAbBCOYvvj8D8lVTXPtyvxP/sDyRa34/I/FeaYeqhF9D92ImNAikgJQKx2EAlUuwFAfe4x5qCY6z+6Ce1FENL0PyJtVi+TYwRAkBppiQFHEED3dSpCAawRQPuyMCh2fQ9A+tSauq6e9j8sjGIoD1b2P5a1aLDjfRFAkxKzmZs09T8LVrzWZLPtP7AVNWwwKv0/XOyPOo+rHECsqWxc7uUrQE/DIzAqWAlAalu7qEj8/j8AoAD0YTMAQJ0Ram9fkfw/wLjjM/C36z+hc2iofTcGQFBxAp9EDPs/KKL1nPRS+D+9tjX8MxnyP7gv74pp0/g/ACrklDo4AEBWb15f6qf6P1NcoW8kLwpAfWMlrWdw6T9Y7tV5xCzwPzm1CzzPAiJAXkeYs4aM/D8V2Lt8nIXzPyWHvUcxNvA/fNmRVldx8j/vTCCp4QfzPyBc0jtjRPQ/xsFuaH99AUDsD2J/SND2P6ryKjXxmP0/b+aVWb9f/D9lcrt1T0oEQFAiNFXCiPQ/L91cgkrEAUCYzdBqpdT6Pw==",
          "dtype": "f8"
         },
         "yaxis": "y"
        },
        {
         "hovertemplate": "Cluster=2<br>PC1=%{x}<br>PC2=%{y}<extra></extra>",
         "legendgroup": "2",
         "marker": {
          "color": "#00cc96",
          "symbol": "circle"
         },
         "mode": "markers",
         "name": "2",
         "orientation": "v",
         "showlegend": true,
         "type": "scatter",
         "x": {
          "bdata": "BUjVIhy+EkAX8JkpC/oIQPwLz2lAIv8/kXzmqAqCBkCEvEqWWdj9P57oEPWDEyNAI8//VoLIDEAHw4VpJmYSQGm36z2i3CBAw/Aghgg+F0A5kPLyCQYGQH0ozElWTilAXLjv14vXIEBpMd8VZ+oUQEeIKUWppglAWLVKA5B1AEDft0sMbhsIQL4VvJp35wlAz6cU+9WaAUBftDqL7a0HQHxDP7xe8P8/bDKUXehRAEB8HxYESZMWQOUOYRPb0wxA/rOfmY34E0BrIStRxWH9PxHtykMTfwFARZFG/6PM/T9+0BT7OXv8PzK0vw2s+P8/j37bP4jCCEDeMsDCOlEEQKy1KDi/MR5A3Kk0zirKA0DcqVYl+/QCQEq/MchVPQNACN+Q0cK5C0A=",
          "dtype": "f8"
         },
         "xaxis": "x",
         "y": {
          "bdata": "+5xT5BfKDEC6XpWQ8h/Vv+Pb9+QxEfm/+HoKVs1Pub/86tQJaZjsv3NhsxRIH/g/8REc3nHU87+GpAwYMsjzv3J4j3Gw9OK/PcffPbOjA8Bfr+6Ev3Txv/qYNuC9uAXAsxM8U1GZ3L9Cyqi4MfDbv+adhG8BMNa/0xhx/iMH9L/+n44ioQD1v4jOT1jzvMy/QbbiBXvp7b9pwocatdnvv+itM7RJJfa/dn8VgAXz878ckFkO7kTlv/FqAIGhnvy/qtHbZn30xr+bYwGKpqfxv6zbBsi+zvW/9VsmDjdw6L8kTOte0p7tv56AF2aahv2/5LjMpixr6L/HKhRBHW7sv5bk3T0DCgvAhLuqNRmF/b9iGbKeIMbyvxQ4OVDUafC/BYsTLS2j8L8=",
          "dtype": "f8"
         },
         "yaxis": "y"
        }
       ],
       "layout": {
        "legend": {
         "title": {
          "text": "Cluster"
         },
         "tracegroupgap": 0
        },
        "template": {
         "data": {
          "bar": [
           {
            "error_x": {
             "color": "#2a3f5f"
            },
            "error_y": {
             "color": "#2a3f5f"
            },
            "marker": {
             "line": {
              "color": "#E5ECF6",
              "width": 0.5
             },
             "pattern": {
              "fillmode": "overlay",
              "size": 10,
              "solidity": 0.2
             }
            },
            "type": "bar"
           }
          ],
          "barpolar": [
           {
            "marker": {
             "line": {
              "color": "#E5ECF6",
              "width": 0.5
             },
             "pattern": {
              "fillmode": "overlay",
              "size": 10,
              "solidity": 0.2
             }
            },
            "type": "barpolar"
           }
          ],
          "carpet": [
           {
            "aaxis": {
             "endlinecolor": "#2a3f5f",
             "gridcolor": "white",
             "linecolor": "white",
             "minorgridcolor": "white",
             "startlinecolor": "#2a3f5f"
            },
            "baxis": {
             "endlinecolor": "#2a3f5f",
             "gridcolor": "white",
             "linecolor": "white",
             "minorgridcolor": "white",
             "startlinecolor": "#2a3f5f"
            },
            "type": "carpet"
           }
          ],
          "choropleth": [
           {
            "colorbar": {
             "outlinewidth": 0,
             "ticks": ""
            },
            "type": "choropleth"
           }
          ],
          "contour": [
           {
            "colorbar": {
             "outlinewidth": 0,
             "ticks": ""
            },
            "colorscale": [
             [
              0,
              "#0d0887"
             ],
             [
              0.1111111111111111,
              "#46039f"
             ],
             [
              0.2222222222222222,
              "#7201a8"
             ],
             [
              0.3333333333333333,
              "#9c179e"
             ],
             [
              0.4444444444444444,
              "#bd3786"
             ],
             [
              0.5555555555555556,
              "#d8576b"
             ],
             [
              0.6666666666666666,
              "#ed7953"
             ],
             [
              0.7777777777777778,
              "#fb9f3a"
             ],
             [
              0.8888888888888888,
              "#fdca26"
             ],
             [
              1,
              "#f0f921"
             ]
            ],
            "type": "contour"
           }
          ],
          "contourcarpet": [
           {
            "colorbar": {
             "outlinewidth": 0,
             "ticks": ""
            },
            "type": "contourcarpet"
           }
          ],
          "heatmap": [
           {
            "colorbar": {
             "outlinewidth": 0,
             "ticks": ""
            },
            "colorscale": [
             [
              0,
              "#0d0887"
             ],
             [
              0.1111111111111111,
              "#46039f"
             ],
             [
              0.2222222222222222,
              "#7201a8"
             ],
             [
              0.3333333333333333,
              "#9c179e"
             ],
             [
              0.4444444444444444,
              "#bd3786"
             ],
             [
              0.5555555555555556,
              "#d8576b"
             ],
             [
              0.6666666666666666,
              "#ed7953"
             ],
             [
              0.7777777777777778,
              "#fb9f3a"
             ],
             [
              0.8888888888888888,
              "#fdca26"
             ],
             [
              1,
              "#f0f921"
             ]
            ],
            "type": "heatmap"
           }
          ],
          "histogram": [
           {
            "marker": {
             "pattern": {
              "fillmode": "overlay",
              "size": 10,
              "solidity": 0.2
             }
            },
            "type": "histogram"
           }
          ],
          "histogram2d": [
           {
            "colorbar": {
             "outlinewidth": 0,
             "ticks": ""
            },
            "colorscale": [
             [
              0,
              "#0d0887"
             ],
             [
              0.1111111111111111,
              "#46039f"
             ],
             [
              0.2222222222222222,
              "#7201a8"
             ],
             [
              0.3333333333333333,
              "#9c179e"
             ],
             [
              0.4444444444444444,
              "#bd3786"
             ],
             [
              0.5555555555555556,
              "#d8576b"
             ],
             [
              0.6666666666666666,
              "#ed7953"
             ],
             [
              0.7777777777777778,
              "#fb9f3a"
             ],
             [
              0.8888888888888888,
              "#fdca26"
             ],
             [
              1,
              "#f0f921"
             ]
            ],
            "type": "histogram2d"
           }
          ],
          "histogram2dcontour": [
           {
            "colorbar": {
             "outlinewidth": 0,
             "ticks": ""
            },
            "colorscale": [
             [
              0,
              "#0d0887"
             ],
             [
              0.1111111111111111,
              "#46039f"
             ],
             [
              0.2222222222222222,
              "#7201a8"
             ],
             [
              0.3333333333333333,
              "#9c179e"
             ],
             [
              0.4444444444444444,
              "#bd3786"
             ],
             [
              0.5555555555555556,
              "#d8576b"
             ],
             [
              0.6666666666666666,
              "#ed7953"
             ],
             [
              0.7777777777777778,
              "#fb9f3a"
             ],
             [
              0.8888888888888888,
              "#fdca26"
             ],
             [
              1,
              "#f0f921"
             ]
            ],
            "type": "histogram2dcontour"
           }
          ],
          "mesh3d": [
           {
            "colorbar": {
             "outlinewidth": 0,
             "ticks": ""
            },
            "type": "mesh3d"
           }
          ],
          "parcoords": [
           {
            "line": {
             "colorbar": {
              "outlinewidth": 0,
              "ticks": ""
             }
            },
            "type": "parcoords"
           }
          ],
          "pie": [
           {
            "automargin": true,
            "type": "pie"
           }
          ],
          "scatter": [
           {
            "fillpattern": {
             "fillmode": "overlay",
             "size": 10,
             "solidity": 0.2
            },
            "type": "scatter"
           }
          ],
          "scatter3d": [
           {
            "line": {
             "colorbar": {
              "outlinewidth": 0,
              "ticks": ""
             }
            },
            "marker": {
             "colorbar": {
              "outlinewidth": 0,
              "ticks": ""
             }
            },
            "type": "scatter3d"
           }
          ],
          "scattercarpet": [
           {
            "marker": {
             "colorbar": {
              "outlinewidth": 0,
              "ticks": ""
             }
            },
            "type": "scattercarpet"
           }
          ],
          "scattergeo": [
           {
            "marker": {
             "colorbar": {
              "outlinewidth": 0,
              "ticks": ""
             }
            },
            "type": "scattergeo"
           }
          ],
          "scattergl": [
           {
            "marker": {
             "colorbar": {
              "outlinewidth": 0,
              "ticks": ""
             }
            },
            "type": "scattergl"
           }
          ],
          "scattermap": [
           {
            "marker": {
             "colorbar": {
              "outlinewidth": 0,
              "ticks": ""
             }
            },
            "type": "scattermap"
           }
          ],
          "scattermapbox": [
           {
            "marker": {
             "colorbar": {
              "outlinewidth": 0,
              "ticks": ""
             }
            },
            "type": "scattermapbox"
           }
          ],
          "scatterpolar": [
           {
            "marker": {
             "colorbar": {
              "outlinewidth": 0,
              "ticks": ""
             }
            },
            "type": "scatterpolar"
           }
          ],
          "scatterpolargl": [
           {
            "marker": {
             "colorbar": {
              "outlinewidth": 0,
              "ticks": ""
             }
            },
            "type": "scatterpolargl"
           }
          ],
          "scatterternary": [
           {
            "marker": {
             "colorbar": {
              "outlinewidth": 0,
              "ticks": ""
             }
            },
            "type": "scatterternary"
           }
          ],
          "surface": [
           {
            "colorbar": {
             "outlinewidth": 0,
             "ticks": ""
            },
            "colorscale": [
             [
              0,
              "#0d0887"
             ],
             [
              0.1111111111111111,
              "#46039f"
             ],
             [
              0.2222222222222222,
              "#7201a8"
             ],
             [
              0.3333333333333333,
              "#9c179e"
             ],
             [
              0.4444444444444444,
              "#bd3786"
             ],
             [
              0.5555555555555556,
              "#d8576b"
             ],
             [
              0.6666666666666666,
              "#ed7953"
             ],
             [
              0.7777777777777778,
              "#fb9f3a"
             ],
             [
              0.8888888888888888,
              "#fdca26"
             ],
             [
              1,
              "#f0f921"
             ]
            ],
            "type": "surface"
           }
          ],
          "table": [
           {
            "cells": {
             "fill": {
              "color": "#EBF0F8"
             },
             "line": {
              "color": "white"
             }
            },
            "header": {
             "fill": {
              "color": "#C8D4E3"
             },
             "line": {
              "color": "white"
             }
            },
            "type": "table"
           }
          ]
         },
         "layout": {
          "annotationdefaults": {
           "arrowcolor": "#2a3f5f",
           "arrowhead": 0,
           "arrowwidth": 1
          },
          "autotypenumbers": "strict",
          "coloraxis": {
           "colorbar": {
            "outlinewidth": 0,
            "ticks": ""
           }
          },
          "colorscale": {
           "diverging": [
            [
             0,
             "#8e0152"
            ],
            [
             0.1,
             "#c51b7d"
            ],
            [
             0.2,
             "#de77ae"
            ],
            [
             0.3,
             "#f1b6da"
            ],
            [
             0.4,
             "#fde0ef"
            ],
            [
             0.5,
             "#f7f7f7"
            ],
            [
             0.6,
             "#e6f5d0"
            ],
            [
             0.7,
             "#b8e186"
            ],
            [
             0.8,
             "#7fbc41"
            ],
            [
             0.9,
             "#4d9221"
            ],
            [
             1,
             "#276419"
            ]
           ],
           "sequential": [
            [
             0,
             "#0d0887"
            ],
            [
             0.1111111111111111,
             "#46039f"
            ],
            [
             0.2222222222222222,
             "#7201a8"
            ],
            [
             0.3333333333333333,
             "#9c179e"
            ],
            [
             0.4444444444444444,
             "#bd3786"
            ],
            [
             0.5555555555555556,
             "#d8576b"
            ],
            [
             0.6666666666666666,
             "#ed7953"
            ],
            [
             0.7777777777777778,
             "#fb9f3a"
            ],
            [
             0.8888888888888888,
             "#fdca26"
            ],
            [
             1,
             "#f0f921"
            ]
           ],
           "sequentialminus": [
            [
             0,
             "#0d0887"
            ],
            [
             0.1111111111111111,
             "#46039f"
            ],
            [
             0.2222222222222222,
             "#7201a8"
            ],
            [
             0.3333333333333333,
             "#9c179e"
            ],
            [
             0.4444444444444444,
             "#bd3786"
            ],
            [
             0.5555555555555556,
             "#d8576b"
            ],
            [
             0.6666666666666666,
             "#ed7953"
            ],
            [
             0.7777777777777778,
             "#fb9f3a"
            ],
            [
             0.8888888888888888,
             "#fdca26"
            ],
            [
             1,
             "#f0f921"
            ]
           ]
          },
          "colorway": [
           "#636efa",
           "#EF553B",
           "#00cc96",
           "#ab63fa",
           "#FFA15A",
           "#19d3f3",
           "#FF6692",
           "#B6E880",
           "#FF97FF",
           "#FECB52"
          ],
          "font": {
           "color": "#2a3f5f"
          },
          "geo": {
           "bgcolor": "white",
           "lakecolor": "white",
           "landcolor": "#E5ECF6",
           "showlakes": true,
           "showland": true,
           "subunitcolor": "white"
          },
          "hoverlabel": {
           "align": "left"
          },
          "hovermode": "closest",
          "mapbox": {
           "style": "light"
          },
          "paper_bgcolor": "white",
          "plot_bgcolor": "#E5ECF6",
          "polar": {
           "angularaxis": {
            "gridcolor": "white",
            "linecolor": "white",
            "ticks": ""
           },
           "bgcolor": "#E5ECF6",
           "radialaxis": {
            "gridcolor": "white",
            "linecolor": "white",
            "ticks": ""
           }
          },
          "scene": {
           "xaxis": {
            "backgroundcolor": "#E5ECF6",
            "gridcolor": "white",
            "gridwidth": 2,
            "linecolor": "white",
            "showbackground": true,
            "ticks": "",
            "zerolinecolor": "white"
           },
           "yaxis": {
            "backgroundcolor": "#E5ECF6",
            "gridcolor": "white",
            "gridwidth": 2,
            "linecolor": "white",
            "showbackground": true,
            "ticks": "",
            "zerolinecolor": "white"
           },
           "zaxis": {
            "backgroundcolor": "#E5ECF6",
            "gridcolor": "white",
            "gridwidth": 2,
            "linecolor": "white",
            "showbackground": true,
            "ticks": "",
            "zerolinecolor": "white"
           }
          },
          "shapedefaults": {
           "line": {
            "color": "#2a3f5f"
           }
          },
          "ternary": {
           "aaxis": {
            "gridcolor": "white",
            "linecolor": "white",
            "ticks": ""
           },
           "baxis": {
            "gridcolor": "white",
            "linecolor": "white",
            "ticks": ""
           },
           "bgcolor": "#E5ECF6",
           "caxis": {
            "gridcolor": "white",
            "linecolor": "white",
            "ticks": ""
           }
          },
          "title": {
           "x": 0.05
          },
          "xaxis": {
           "automargin": true,
           "gridcolor": "white",
           "linecolor": "white",
           "ticks": "",
           "title": {
            "standoff": 15
           },
           "zerolinecolor": "white",
           "zerolinewidth": 2
          },
          "yaxis": {
           "automargin": true,
           "gridcolor": "white",
           "linecolor": "white",
           "ticks": "",
           "title": {
            "standoff": 15
           },
           "zerolinecolor": "white",
           "zerolinewidth": 2
          }
         }
        },
        "title": {
         "text": "KMeans Clustering (PCA Reduced)"
        },
        "xaxis": {
         "anchor": "y",
         "domain": [
          0,
          1
         ],
         "title": {
          "text": "PC1"
         }
        },
        "yaxis": {
         "anchor": "x",
         "domain": [
          0,
          1
         ],
         "title": {
          "text": "PC2"
         }
        }
       }
      }
     },
     "metadata": {},
     "output_type": "display_data"
    },
    {
     "data": {
      "application/vnd.plotly.v1+json": {
       "config": {
        "plotlyServerURL": "https://plot.ly"
       },
       "data": [
        {
         "hovertemplate": "Cluster=2<br>PC1=%{x}<br>PC2=%{y}<extra></extra>",
         "legendgroup": "2",
         "marker": {
          "color": "#636efa",
          "symbol": "circle"
         },
         "mode": "markers",
         "name": "2",
         "orientation": "v",
         "showlegend": true,
         "type": "scatter",
         "x": {
          "bdata": "W/nqn769yD+fVHQbic3bP+Fn/qfi9Ok/JUgPV2D9w79ia8Z+XXXVv0pnQXy8/sE/rVRnX0d5+T8Cz243M2vkPzt+wWCF1+E/kxI8Df6P1r+p8pD7abjUv6E8aj6x6/M/wJ6BJgK6w78X8JkpC/oIQBOaGTJfaMU/9U44yEMg7z+8qzXRyFr5Py9NsJIWYus//AvPaUAi/z/S4ANh9gDSP5F85qgKggZAhLxKllnY/T+9eUZJYIbbPyPP/1aCyAxA9LME57ho5j8Hw4VpJmYSQIGB3+D1mu0/hTDmKYZdqL8j5lDbAxnNv+uLuzchmKA/STisc5LZ9j/D8CCGCD4XQE2Trldu9d6/P8iYpVdinz85kPLyCQYGQLNItlp+yPA/hi5PEuHb4T831zO7uSPav2kx3xVn6hRAPHm0MHl06D9wnoqq/gzTv/pe6s1NEvI/khKCpjbU9D9nevCvgt/GP8aCfCnz7+M/1aKawcVU9z/oJ2yzKZRSv6c8wnNmkvo/7yRBeKfp9T85q4qIZkrHPxEqe6VbQdy/zg2jBp+Ctz/zyBCFVZ3Pv8cMuZI/YO2/R4gpRammCUDCe247WU7bv1i1SgOQdQBAZpA+rh807T9qQGi0/s3PP64o6M/CMO8/J+MvRkIQ1D/ft0sMbhsIQPJLg29MDL8/tgwcWNIo/T98bK6XVsPgP6q6jbe8aus/vhW8mnfnCUCrly4msDTQv8AR/OmTffg/p9NOCKqK3z9WlbAzSPngv+uW29QrWOQ/teyqaAp/6r897AbbA/PKP73gFvuriuY/J628Gtym5z9SYqO/FEvoPzfSVhrUh9Y/z6cU+9WaAUBftDqL7a0HQOuG4UmhDug/fEM/vF7w/z9iln0TXqixv6kqY/MQa9W/bDKUXehRAEB8HxYESZMWQP5XSZY4mKU/cc2MaGng3z92JzFpcSbzP+UOYRPb0wxAdto+mwyH8j9a8Xvdf13RP/z20QoBf8e/UFlvgat21j/Qr1md4zbyPy9Ezu3Gvue//rOfmY34E0DFY1geu+vmP2ey4HCQjuS/jQgIPQwn8D+8JZ/Sz6f6P2TuKvIY+vY/AR+gZfs18z+6DTArD8jTv9M+yWoU2KW/3p1yz5nh7D8wOS+a1H7Rv/YO0bhmxsE/ayErUcVh/T8KRwJ/+0PUP0wpWSue8+o/Ee3KQxN/AUDkwuWq/rDgP0WRRv+jzP0/ftAU+zl7/D8ytL8NrPj/P6+kTI8abvI/j37bP4jCCEBN2uiqayXYv94ywMI6UQRAwoBExYl82T8KJJ1u5WjdPyZJBNcOII+/3Kk0zirKA0BZslRsUZXRvy3QuC/H8ew/3KlWJfv0AkBKvzHIVT0DQO3SAXsrefY/w809Fnw66T8/MIlt8ZjgPxEOsRWPQtQ/D7bnqeV94r+3Q00qnunnPyJIpfe7CNS/m4VTgfuV+j+MeyKnRzLkPzeOuqS0X/o/2HRVYVSq2L/K58unP82uv6EFTZaNYOK/fyY/n3DQtL/Yq7Dx5AnBP/IvAydbC+0/oqqQT+xvwj+4BtOXZo3yP1qm829/VuU/HOriuPPl4b9lrEMB8tmhv/TrPJrvHu4/ZpWpyYDStz+v9/R0Ne7QvwjfkNHCuQtA",
          "dtype": "f8"
         },
         "xaxis": "x",
         "y": {
          "bdata": "ETZC/8GG07//1FlgtgTVv1PtdpRDFeo/VjbWBpfj0r9kBBei08zgv1hPaRorkc2/6We5ZV22578MfjsMgbfZv2iNZqj/avC/9QNronaByj+6u4rFyIPmv2wQjmL74/A/n3A+aYu74L+6XpWQ8h/Vv/iyrsy6MPG/xMEuoC6Q17/69bQ4ZRHyvxu/4Xt7We+/49v35DER+b9XtfY4Vnbpv/h6ClbNT7m//OrUCWmY7L/LXoLHtxvgv/ERHN5x1PO/ml3ckJh+8r+GpAwYMsjzv8nxekOcO+6/T19whTPQ478azvBIdAnrv5MyhL3jfsa/91qnazr73r89x989s6MDwCeqJIKRSvO/rqU+FPK9079fr+6Ev3Txv0OSgfqbkfa/dlK5z1uj0L8IOfvDmdngv0LKqLgx8Nu/ra+b/CF27r+GOfVKrR/zv9d3VzGUOKa/lreWPLBE67+VeQrniILhv/LgIlKSEfC/Bek2pEpP478ukvmb7vzov+3s6a2ku/G/8VKZWFxa4b+Y22mEjEnTv5qV2iNFJO6/ZTZWwjf4p79Vz2OTYc7pv9pppy9OkMC/5p2EbwEw1r/08OhVZlLXv9MYcf4jB/S/fFCchwer5r8Z1gt+vm3mv6FCtbZ1cva/a4egpbgB6b/+n44ioQD1v688Q3XUmOO/l68U1oswwj/1/hAiYHvTv2fMhrdonPO/iM5PWPO8zL+tyQnupNntv6WqqvJ22Pa/HwaPPqiO67+bjVZEKr/RvyRGhvpWX/S/TGSv84Rpzr9oCoDaknHTv6qOnFOv8eS/1u3tx1f06b97iHvJa230v5/YUm6HKei/QbbiBXvp7b9pwocatdnvv2pbu6hI/P4/6K0ztEkl9r/2CHrDTtjov3Bii7vejue/dn8VgAXz878ckFkO7kTlv+buwSvxcOW/zBX9jfc98L/wjrACUTLlv/FqAIGhnvy/QP/aeA9aq78BArbvJSPvv5y5Ar30YOO/FjmMaGXw279iu/mpPWTtv9Elnd3Gp8C/qtHbZn30xr+PCIpcWZLmP7fEA8JIH9q/PnoW1cXs8b9hLNrKts3zP+Bbdj7CxuW/YOrWl/L457+BvbOdDCvmvz06nCOSyLG/bWC2j6WF7b/YBHFUt1Tjv5Fggoc5tea/m2MBiqan8b+y7/jMMMDxv6MY4KLJrfe/rNsGyL7O9b+iHAT1qgXwv/VbJg43cOi/JEzrXtKe7b+egBdmmob9v9/raVCkm9m/5LjMpixr6L81EEoBmKLbv8cqFEEdbuy/QUChyUkh8r+nHPKRiSjovzBukbGdxe2/hLuqNRmF/b+OUggZUprxv4Nbc+666+m/YhmyniDG8r8UODlQ1Gnwvy1GQsUABfe/IQkXJLyg+b/7R8TcKcHnP4YaRTthmtK/g27nAmVyxz8yhGjsVHrLv/EKQtfUF+y/t01Ivaiw6z9AtEX6i2LMv8+lyniD9+e/aoV+YnAx4b9qEjd34prdP02TY5mrX7Y/PFLmabO287+nmqEB5u7Uv7fxwwhPZOy/tv3su6aD6b/6Xl29qhr1v94CPxaAVvC/yXeEtGkCt796PnsrXnzav6gxH0zCZau/SVvKt6MJ478oiRvPwS/MvwWLEy0to/C/",
          "dtype": "f8"
         },
         "yaxis": "y"
        },
        {
         "hovertemplate": "Cluster=1<br>PC1=%{x}<br>PC2=%{y}<extra></extra>",
         "legendgroup": "1",
         "marker": {
          "color": "#EF553B",
          "symbol": "circle"
         },
         "mode": "markers",
         "name": "1",
         "orientation": "v",
         "showlegend": true,
         "type": "scatter",
         "x": {
          "bdata": "8NKm267q6L8qylCh5kjFPwZAu7XhjeC/lyPqWKiv7b9a1cIrPbnvP3NGnrE4Nes/E1ccSJkK6z9aFAEsY3Puv1hRzrvSQtQ/kG4ayeN61L+UJJHkKOXxv0zNQkXtnca/BUjVIhy+EkBwkT9LTKLwv58BG6l4j/G/N7lEmkT16L/fSfVC4hezP1UzhtuEVee/wDpUd5fK7r8Bgq9/pWLWv99CDhT2GvG/sgfi6ZMIxr953WMwz/DovwYMw5c+WIe/q9J4aVjPzb9EFw479Lftv9K4PGFgTeC/+T04g60L0L+J9bKeQfnuv1BSuQNdceC/XX3KTQhv8b9D93HPPajrv7z5esW+qeM/YhVWa/SPzr/Q2EkkBqnwv1FVVMlTv+m/CSdV0gzS/D897X8Xlkzkv098J8TgTs2/AJ6M73qs8r/S/yc7Zyziv8djhcR6HvK/kvCiyrQX5r/MsoQmcQPxv1a2MVh0CfC/UShL9AE28T8PrrP/hjrwv2W1iul/BNm/xDVzRsgh879pAyRSsz/pv1i9d4JAedy/NlyCSfZr6L8vw6i4BAX2v3/zRrWE5fW/rx5jvlt78L8UWYf1eui+P5+tzEfPtum/v5P7Zr707b+m99yKTvrvv92K9IfQpeS/Tx9WsP957L/KsksW6Jvwv663Ap6y9/C/IY8GNjiA7r8i4U3s6Q7lv2/wrDULS+2/h9jXKH/J779n1KBY8XruvzVDKj+Wf/C/1Wj/5viE9L8G72ZU/ePov1G2wfxQZMS/gbhsckZq779qAGNJmlzVPzyK5qURjO2/PrQh8lg78L9RDrojkoP1v6zTbEihmu6/ZWcK5XEz878r6BIzIIrxvzGF31C/1fG/FJgpja7b3b8d0SgXHF7mvyLS628QBNG/w9YdAFFatT8lYxv89bbQv/dIQSExIPG/Dog72LFk8b9F0U/jZVbqvxmRbV5a5fO/TDOAtTmw77+NiW+yTofwv/X7UaZca+y/uFIXdo8i8L8tnJE5w/z2v36bmr1ANe+/AyUjdXtS8r+7mY52NSjtv3Q9bKZj9+e/+o2T3wRN9L/kaQuWLGvyv8NGR8cO5+u/Y0a5LIRWvL9wUaEtn6rVv0bstPx8FuW/BxMsuNFRir84ZsAf0NANQOROEvQb6fC/leQTrO5H8r/pF3LWkuzmvywn6LmjePS/LKymnTgE8r8pylQywF3wv8FdcrW559q/WGSAQOIilj9wsD76n3rlvxJk0CEwp/C/xHGbSlVj8r/eMmskJsDtv7PofO+F+vO/8yIK0Cja7b/7K9EqjHvwv9lLH14oO/C/3b7n/BeC9L/t12+/SpXyv9oU/p+Tm/C/JmOGX6dO5b9BBMh3HG3zv650e/KhGOi/A9CzyqqHsT8PlNUGPw/xv2GZJWEMYem/8Uwy24GN6r/+v3Ae0znPv+8tXGVQXuy/gzSV4dtL6r97Bg7Gbw/lv+Uyuvyy+eO/T2T1pZJe8b+U/tEmhiTtv7EWK7QfGfW/Ra0VnXy24L+kprvA0hPTv4P97WVjfO2/lqBgBaAc8L+TlgIa7FjbvyGhgb5YNvC/jvq9cjJF9L8W0yKGOUXqv6pVMsQgPvG/95u3bdMA6L9squOWiSbcP1YaDhF04fG/DdgcrG6f47/6SNHJBXjWv50RvwtMIM+/8AfPKcA16b+uP7OfJs3yv4Bo8MLr2fC/aeck2IhM4b8jGtolcQPmv1V3EMzhr/O/JCZVY9V0879LIhv3qRbqv+MhWYA42Oi/WL9lhB0+8L8ysRieTj30v7Z+fshyadS/cO4+wx/r8L9msX81g9TrvzXIxnoNd84/j7/uVSCD7r+xc8MNTFvbv71fiVPYr+a/3lsO8UQT0T9LsRW4KZbvv81WjYiMSPC/N19LrAcz67+LCzNa4RPzv+B7k8xrz/O/pxTzGzDs678kfkp0Kv3rv156Tt0QHue/sPzi+18d4r+y/nTIXPvlvzdEEuzaDuy/0fpYXYk8879mqYQM4nesv5k2ug5MK+2/QXZJ0JdD8b8jgw5j7ATtv0Uw7BGb3+K/WgzSSmPG8b+zz4EobQnjv/oTp+kd/vC/37zXG2Io47+tLNSat2bsv7zwW3xklO2/A7jpbP8J6r+8Zyu9qk/tv0GMTX/J/em/GbPwqGYdAEC4E623oDvxv+D4kqvTkfO/WZYrRP8R6b+6zATp+dvrv9MHmLiVbOq/x1z5OJzm6L/Rbm4rTSjmv26aqqVTk94/4exoixnv8b91z1gN4V7uvz6/VRHXIum/QKdVW5Yr5r/dTqNBxKvyv4MT5Or3XuI/21ahGGba7b8OiiSxscnxv51wRF1F1vO/ZWrNxnur0b9VVDCerNzzvyZ4JpZVVPS/v/LMK+Q86b9f2qrffqHtv76BsIqAXvS//8zANBVs8b8RDffQ1Rztv2Lxy4OXzPK/Gbxz6E1A8b96m39DlUv0v12PIZys9fC/M5YWKyMt9b9eInhNJPzcv/SBE+v/cuy/3k1PjIO6lz9zs1/4F9LwvwO2QtMvA/O/oWH1ezB06b8e02+Wbynvv0fdwuz7XfC/+JHmjqDM6L8Y6Qmpy8rKP6/xBCnkQfC/XE9+A9Oo8b8Me6g2PIzrv8MQjjcqNPC/OnjPMDha87+qKAF2cKfxv15Xd4JCd/G/fYsDfL1b7b9fS0CNSgTrvzFi4MvOv9u/rY9udZ9I8b8XyVGv9n3xv/DtJJlO8fC/RauORVRz87/Rm2PRgXnzv8c0XLiaavK/TPIHHKyZ5r9IHqr0+V7lvxaoEXr5DMa/D44ZFlEP5L9vq917kYfyvybXQOuRJNi/bORqZo9A47/+AfCuH/zEv+Psdf3sj+u/0g7D7mbs5b9iPcCAXbezPzoCb+NUBum/cC3hD9Ce57/PGljtt/DgP+RWeeRisuG/EmrQIlkO67+hRCQRpTzRv9T7ruyhFeq/kOVqn47X7b/sLeaw+dvrP/bMPsBx4ey/Dx6tNXFg7b9PQsw6pK7xvw==",
          "dtype": "f8"
         },
         "xaxis": "x",
         "y": {
          "bdata": "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",
          "dtype": "f8"
         },
         "yaxis": "y"
        },
        {
         "hovertemplate": "Cluster=0<br>PC1=%{x}<br>PC2=%{y}<extra></extra>",
         "legendgroup": "0",
         "marker": {
          "color": "#00cc96",
          "symbol": "circle"
         },
         "mode": "markers",
         "name": "0",
         "orientation": "v",
         "showlegend": true,
         "type": "scatter",
         "x": {
          "bdata": "nugQ9YMTI0Bpt+s9otwgQH0ozElWTilAXLjv14vXIECVQb9DFzEfQKy1KDi/MR5A",
          "dtype": "f8"
         },
         "xaxis": "x",
         "y": {
          "bdata": "c2GzFEgf+D9yeI9xsPTiv/qYNuC9uAXAsxM8U1GZ3L+sqWxc7uUrQJbk3T0DCgvA",
          "dtype": "f8"
         },
         "yaxis": "y"
        }
       ],
       "layout": {
        "legend": {
         "title": {
          "text": "Cluster"
         },
         "tracegroupgap": 0
        },
        "template": {
         "data": {
          "bar": [
           {
            "error_x": {
             "color": "#2a3f5f"
            },
            "error_y": {
             "color": "#2a3f5f"
            },
            "marker": {
             "line": {
              "color": "#E5ECF6",
              "width": 0.5
             },
             "pattern": {
              "fillmode": "overlay",
              "size": 10,
              "solidity": 0.2
             }
            },
            "type": "bar"
           }
          ],
          "barpolar": [
           {
            "marker": {
             "line": {
              "color": "#E5ECF6",
              "width": 0.5
             },
             "pattern": {
              "fillmode": "overlay",
              "size": 10,
              "solidity": 0.2
             }
            },
            "type": "barpolar"
           }
          ],
          "carpet": [
           {
            "aaxis": {
             "endlinecolor": "#2a3f5f",
             "gridcolor": "white",
             "linecolor": "white",
             "minorgridcolor": "white",
             "startlinecolor": "#2a3f5f"
            },
            "baxis": {
             "endlinecolor": "#2a3f5f",
             "gridcolor": "white",
             "linecolor": "white",
             "minorgridcolor": "white",
             "startlinecolor": "#2a3f5f"
            },
            "type": "carpet"
           }
          ],
          "choropleth": [
           {
            "colorbar": {
             "outlinewidth": 0,
             "ticks": ""
            },
            "type": "choropleth"
           }
          ],
          "contour": [
           {
            "colorbar": {
             "outlinewidth": 0,
             "ticks": ""
            },
            "colorscale": [
             [
              0,
              "#0d0887"
             ],
             [
              0.1111111111111111,
              "#46039f"
             ],
             [
              0.2222222222222222,
              "#7201a8"
             ],
             [
              0.3333333333333333,
              "#9c179e"
             ],
             [
              0.4444444444444444,
              "#bd3786"
             ],
             [
              0.5555555555555556,
              "#d8576b"
             ],
             [
              0.6666666666666666,
              "#ed7953"
             ],
             [
              0.7777777777777778,
              "#fb9f3a"
             ],
             [
              0.8888888888888888,
              "#fdca26"
             ],
             [
              1,
              "#f0f921"
             ]
            ],
            "type": "contour"
           }
          ],
          "contourcarpet": [
           {
            "colorbar": {
             "outlinewidth": 0,
             "ticks": ""
            },
            "type": "contourcarpet"
           }
          ],
          "heatmap": [
           {
            "colorbar": {
             "outlinewidth": 0,
             "ticks": ""
            },
            "colorscale": [
             [
              0,
              "#0d0887"
             ],
             [
              0.1111111111111111,
              "#46039f"
             ],
             [
              0.2222222222222222,
              "#7201a8"
             ],
             [
              0.3333333333333333,
              "#9c179e"
             ],
             [
              0.4444444444444444,
              "#bd3786"
             ],
             [
              0.5555555555555556,
              "#d8576b"
             ],
             [
              0.6666666666666666,
              "#ed7953"
             ],
             [
              0.7777777777777778,
              "#fb9f3a"
             ],
             [
              0.8888888888888888,
              "#fdca26"
             ],
             [
              1,
              "#f0f921"
             ]
            ],
            "type": "heatmap"
           }
          ],
          "histogram": [
           {
            "marker": {
             "pattern": {
              "fillmode": "overlay",
              "size": 10,
              "solidity": 0.2
             }
            },
            "type": "histogram"
           }
          ],
          "histogram2d": [
           {
            "colorbar": {
             "outlinewidth": 0,
             "ticks": ""
            },
            "colorscale": [
             [
              0,
              "#0d0887"
             ],
             [
              0.1111111111111111,
              "#46039f"
             ],
             [
              0.2222222222222222,
              "#7201a8"
             ],
             [
              0.3333333333333333,
              "#9c179e"
             ],
             [
              0.4444444444444444,
              "#bd3786"
             ],
             [
              0.5555555555555556,
              "#d8576b"
             ],
             [
              0.6666666666666666,
              "#ed7953"
             ],
             [
              0.7777777777777778,
              "#fb9f3a"
             ],
             [
              0.8888888888888888,
              "#fdca26"
             ],
             [
              1,
              "#f0f921"
             ]
            ],
            "type": "histogram2d"
           }
          ],
          "histogram2dcontour": [
           {
            "colorbar": {
             "outlinewidth": 0,
             "ticks": ""
            },
            "colorscale": [
             [
              0,
              "#0d0887"
             ],
             [
              0.1111111111111111,
              "#46039f"
             ],
             [
              0.2222222222222222,
              "#7201a8"
             ],
             [
              0.3333333333333333,
              "#9c179e"
             ],
             [
              0.4444444444444444,
              "#bd3786"
             ],
             [
              0.5555555555555556,
              "#d8576b"
             ],
             [
              0.6666666666666666,
              "#ed7953"
             ],
             [
              0.7777777777777778,
              "#fb9f3a"
             ],
             [
              0.8888888888888888,
              "#fdca26"
             ],
             [
              1,
              "#f0f921"
             ]
            ],
            "type": "histogram2dcontour"
           }
          ],
          "mesh3d": [
           {
            "colorbar": {
             "outlinewidth": 0,
             "ticks": ""
            },
            "type": "mesh3d"
           }
          ],
          "parcoords": [
           {
            "line": {
             "colorbar": {
              "outlinewidth": 0,
              "ticks": ""
             }
            },
            "type": "parcoords"
           }
          ],
          "pie": [
           {
            "automargin": true,
            "type": "pie"
           }
          ],
          "scatter": [
           {
            "fillpattern": {
             "fillmode": "overlay",
             "size": 10,
             "solidity": 0.2
            },
            "type": "scatter"
           }
          ],
          "scatter3d": [
           {
            "line": {
             "colorbar": {
              "outlinewidth": 0,
              "ticks": ""
             }
            },
            "marker": {
             "colorbar": {
              "outlinewidth": 0,
              "ticks": ""
             }
            },
            "type": "scatter3d"
           }
          ],
          "scattercarpet": [
           {
            "marker": {
             "colorbar": {
              "outlinewidth": 0,
              "ticks": ""
             }
            },
            "type": "scattercarpet"
           }
          ],
          "scattergeo": [
           {
            "marker": {
             "colorbar": {
              "outlinewidth": 0,
              "ticks": ""
             }
            },
            "type": "scattergeo"
           }
          ],
          "scattergl": [
           {
            "marker": {
             "colorbar": {
              "outlinewidth": 0,
              "ticks": ""
             }
            },
            "type": "scattergl"
           }
          ],
          "scattermap": [
           {
            "marker": {
             "colorbar": {
              "outlinewidth": 0,
              "ticks": ""
             }
            },
            "type": "scattermap"
           }
          ],
          "scattermapbox": [
           {
            "marker": {
             "colorbar": {
              "outlinewidth": 0,
              "ticks": ""
             }
            },
            "type": "scattermapbox"
           }
          ],
          "scatterpolar": [
           {
            "marker": {
             "colorbar": {
              "outlinewidth": 0,
              "ticks": ""
             }
            },
            "type": "scatterpolar"
           }
          ],
          "scatterpolargl": [
           {
            "marker": {
             "colorbar": {
              "outlinewidth": 0,
              "ticks": ""
             }
            },
            "type": "scatterpolargl"
           }
          ],
          "scatterternary": [
           {
            "marker": {
             "colorbar": {
              "outlinewidth": 0,
              "ticks": ""
             }
            },
            "type": "scatterternary"
           }
          ],
          "surface": [
           {
            "colorbar": {
             "outlinewidth": 0,
             "ticks": ""
            },
            "colorscale": [
             [
              0,
              "#0d0887"
             ],
             [
              0.1111111111111111,
              "#46039f"
             ],
             [
              0.2222222222222222,
              "#7201a8"
             ],
             [
              0.3333333333333333,
              "#9c179e"
             ],
             [
              0.4444444444444444,
              "#bd3786"
             ],
             [
              0.5555555555555556,
              "#d8576b"
             ],
             [
              0.6666666666666666,
              "#ed7953"
             ],
             [
              0.7777777777777778,
              "#fb9f3a"
             ],
             [
              0.8888888888888888,
              "#fdca26"
             ],
             [
              1,
              "#f0f921"
             ]
            ],
            "type": "surface"
           }
          ],
          "table": [
           {
            "cells": {
             "fill": {
              "color": "#EBF0F8"
             },
             "line": {
              "color": "white"
             }
            },
            "header": {
             "fill": {
              "color": "#C8D4E3"
             },
             "line": {
              "color": "white"
             }
            },
            "type": "table"
           }
          ]
         },
         "layout": {
          "annotationdefaults": {
           "arrowcolor": "#2a3f5f",
           "arrowhead": 0,
           "arrowwidth": 1
          },
          "autotypenumbers": "strict",
          "coloraxis": {
           "colorbar": {
            "outlinewidth": 0,
            "ticks": ""
           }
          },
          "colorscale": {
           "diverging": [
            [
             0,
             "#8e0152"
            ],
            [
             0.1,
             "#c51b7d"
            ],
            [
             0.2,
             "#de77ae"
            ],
            [
             0.3,
             "#f1b6da"
            ],
            [
             0.4,
             "#fde0ef"
            ],
            [
             0.5,
             "#f7f7f7"
            ],
            [
             0.6,
             "#e6f5d0"
            ],
            [
             0.7,
             "#b8e186"
            ],
            [
             0.8,
             "#7fbc41"
            ],
            [
             0.9,
             "#4d9221"
            ],
            [
             1,
             "#276419"
            ]
           ],
           "sequential": [
            [
             0,
             "#0d0887"
            ],
            [
             0.1111111111111111,
             "#46039f"
            ],
            [
             0.2222222222222222,
             "#7201a8"
            ],
            [
             0.3333333333333333,
             "#9c179e"
            ],
            [
             0.4444444444444444,
             "#bd3786"
            ],
            [
             0.5555555555555556,
             "#d8576b"
            ],
            [
             0.6666666666666666,
             "#ed7953"
            ],
            [
             0.7777777777777778,
             "#fb9f3a"
            ],
            [
             0.8888888888888888,
             "#fdca26"
            ],
            [
             1,
             "#f0f921"
            ]
           ],
           "sequentialminus": [
            [
             0,
             "#0d0887"
            ],
            [
             0.1111111111111111,
             "#46039f"
            ],
            [
             0.2222222222222222,
             "#7201a8"
            ],
            [
             0.3333333333333333,
             "#9c179e"
            ],
            [
             0.4444444444444444,
             "#bd3786"
            ],
            [
             0.5555555555555556,
             "#d8576b"
            ],
            [
             0.6666666666666666,
             "#ed7953"
            ],
            [
             0.7777777777777778,
             "#fb9f3a"
            ],
            [
             0.8888888888888888,
             "#fdca26"
            ],
            [
             1,
             "#f0f921"
            ]
           ]
          },
          "colorway": [
           "#636efa",
           "#EF553B",
           "#00cc96",
           "#ab63fa",
           "#FFA15A",
           "#19d3f3",
           "#FF6692",
           "#B6E880",
           "#FF97FF",
           "#FECB52"
          ],
          "font": {
           "color": "#2a3f5f"
          },
          "geo": {
           "bgcolor": "white",
           "lakecolor": "white",
           "landcolor": "#E5ECF6",
           "showlakes": true,
           "showland": true,
           "subunitcolor": "white"
          },
          "hoverlabel": {
           "align": "left"
          },
          "hovermode": "closest",
          "mapbox": {
           "style": "light"
          },
          "paper_bgcolor": "white",
          "plot_bgcolor": "#E5ECF6",
          "polar": {
           "angularaxis": {
            "gridcolor": "white",
            "linecolor": "white",
            "ticks": ""
           },
           "bgcolor": "#E5ECF6",
           "radialaxis": {
            "gridcolor": "white",
            "linecolor": "white",
            "ticks": ""
           }
          },
          "scene": {
           "xaxis": {
            "backgroundcolor": "#E5ECF6",
            "gridcolor": "white",
            "gridwidth": 2,
            "linecolor": "white",
            "showbackground": true,
            "ticks": "",
            "zerolinecolor": "white"
           },
           "yaxis": {
            "backgroundcolor": "#E5ECF6",
            "gridcolor": "white",
            "gridwidth": 2,
            "linecolor": "white",
            "showbackground": true,
            "ticks": "",
            "zerolinecolor": "white"
           },
           "zaxis": {
            "backgroundcolor": "#E5ECF6",
            "gridcolor": "white",
            "gridwidth": 2,
            "linecolor": "white",
            "showbackground": true,
            "ticks": "",
            "zerolinecolor": "white"
           }
          },
          "shapedefaults": {
           "line": {
            "color": "#2a3f5f"
           }
          },
          "ternary": {
           "aaxis": {
            "gridcolor": "white",
            "linecolor": "white",
            "ticks": ""
           },
           "baxis": {
            "gridcolor": "white",
            "linecolor": "white",
            "ticks": ""
           },
           "bgcolor": "#E5ECF6",
           "caxis": {
            "gridcolor": "white",
            "linecolor": "white",
            "ticks": ""
           }
          },
          "title": {
           "x": 0.05
          },
          "xaxis": {
           "automargin": true,
           "gridcolor": "white",
           "linecolor": "white",
           "ticks": "",
           "title": {
            "standoff": 15
           },
           "zerolinecolor": "white",
           "zerolinewidth": 2
          },
          "yaxis": {
           "automargin": true,
           "gridcolor": "white",
           "linecolor": "white",
           "ticks": "",
           "title": {
            "standoff": 15
           },
           "zerolinecolor": "white",
           "zerolinewidth": 2
          }
         }
        },
        "title": {
         "text": "Hierarchical Clustering (PCA Reduced)"
        },
        "xaxis": {
         "anchor": "y",
         "domain": [
          0,
          1
         ],
         "title": {
          "text": "PC1"
         }
        },
        "yaxis": {
         "anchor": "x",
         "domain": [
          0,
          1
         ],
         "title": {
          "text": "PC2"
         }
        }
       }
      }
     },
     "metadata": {},
     "output_type": "display_data"
    },
    {
     "data": {
      "application/vnd.plotly.v1+json": {
       "config": {
        "plotlyServerURL": "https://plot.ly"
       },
       "data": [
        {
         "hovertemplate": "Cluster=0<br>PC1=%{x}<br>PC2=%{y}<extra></extra>",
         "legendgroup": "0",
         "marker": {
          "color": "#636efa",
          "symbol": "circle"
         },
         "mode": "markers",
         "name": "0",
         "orientation": "v",
         "showlegend": true,
         "type": "scatter",
         "x": {
          "bdata": "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",
          "dtype": "f8"
         },
         "xaxis": "x",
         "y": {
          "bdata": "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",
          "dtype": "f8"
         },
         "yaxis": "y"
        },
        {
         "hovertemplate": "Cluster=-1<br>PC1=%{x}<br>PC2=%{y}<extra></extra>",
         "legendgroup": "-1",
         "marker": {
          "color": "#EF553B",
          "symbol": "circle"
         },
         "mode": "markers",
         "name": "-1",
         "orientation": "v",
         "showlegend": true,
         "type": "scatter",
         "x": {
          "bdata": "BUjVIhy+EkCe6BD1gxMjQGm36z2i3CBAw/Aghgg+F0AJJ1XSDNL8P30ozElWTilAXLjv14vXIEBRKEv0ATbxP1i9d4JAedy/FFmH9Xrovj9RtsH8UGTEvzhmwB/Q0A1AlUG/QxcxH0D+s5+ZjfgTQBmz8KhmHQBArLUoOL8xHkA=",
          "dtype": "f8"
         },
         "xaxis": "x",
         "y": {
          "bdata": "+5xT5BfKDEBzYbMUSB/4P3J4j3Gw9OK/PcffPbOjA8AibVYvk2MEQPqYNuC9uAXAsxM8U1GZ3L+QGmmJAUcQQPd1KkIBrBFA+7IwKHZ9D0CWtWiw430RQFzsjzqPqxxArKlsXO7lK0Cq0dtmffTGvzm1CzzPAiJAluTdPQMKC8A=",
          "dtype": "f8"
         },
         "yaxis": "y"
        }
       ],
       "layout": {
        "legend": {
         "title": {
          "text": "Cluster"
         },
         "tracegroupgap": 0
        },
        "template": {
         "data": {
          "bar": [
           {
            "error_x": {
             "color": "#2a3f5f"
            },
            "error_y": {
             "color": "#2a3f5f"
            },
            "marker": {
             "line": {
              "color": "#E5ECF6",
              "width": 0.5
             },
             "pattern": {
              "fillmode": "overlay",
              "size": 10,
              "solidity": 0.2
             }
            },
            "type": "bar"
           }
          ],
          "barpolar": [
           {
            "marker": {
             "line": {
              "color": "#E5ECF6",
              "width": 0.5
             },
             "pattern": {
              "fillmode": "overlay",
              "size": 10,
              "solidity": 0.2
             }
            },
            "type": "barpolar"
           }
          ],
          "carpet": [
           {
            "aaxis": {
             "endlinecolor": "#2a3f5f",
             "gridcolor": "white",
             "linecolor": "white",
             "minorgridcolor": "white",
             "startlinecolor": "#2a3f5f"
            },
            "baxis": {
             "endlinecolor": "#2a3f5f",
             "gridcolor": "white",
             "linecolor": "white",
             "minorgridcolor": "white",
             "startlinecolor": "#2a3f5f"
            },
            "type": "carpet"
           }
          ],
          "choropleth": [
           {
            "colorbar": {
             "outlinewidth": 0,
             "ticks": ""
            },
            "type": "choropleth"
           }
          ],
          "contour": [
           {
            "colorbar": {
             "outlinewidth": 0,
             "ticks": ""
            },
            "colorscale": [
             [
              0,
              "#0d0887"
             ],
             [
              0.1111111111111111,
              "#46039f"
             ],
             [
              0.2222222222222222,
              "#7201a8"
             ],
             [
              0.3333333333333333,
              "#9c179e"
             ],
             [
              0.4444444444444444,
              "#bd3786"
             ],
             [
              0.5555555555555556,
              "#d8576b"
             ],
             [
              0.6666666666666666,
              "#ed7953"
             ],
             [
              0.7777777777777778,
              "#fb9f3a"
             ],
             [
              0.8888888888888888,
              "#fdca26"
             ],
             [
              1,
              "#f0f921"
             ]
            ],
            "type": "contour"
           }
          ],
          "contourcarpet": [
           {
            "colorbar": {
             "outlinewidth": 0,
             "ticks": ""
            },
            "type": "contourcarpet"
           }
          ],
          "heatmap": [
           {
            "colorbar": {
             "outlinewidth": 0,
             "ticks": ""
            },
            "colorscale": [
             [
              0,
              "#0d0887"
             ],
             [
              0.1111111111111111,
              "#46039f"
             ],
             [
              0.2222222222222222,
              "#7201a8"
             ],
             [
              0.3333333333333333,
              "#9c179e"
             ],
             [
              0.4444444444444444,
              "#bd3786"
             ],
             [
              0.5555555555555556,
              "#d8576b"
             ],
             [
              0.6666666666666666,
              "#ed7953"
             ],
             [
              0.7777777777777778,
              "#fb9f3a"
             ],
             [
              0.8888888888888888,
              "#fdca26"
             ],
             [
              1,
              "#f0f921"
             ]
            ],
            "type": "heatmap"
           }
          ],
          "histogram": [
           {
            "marker": {
             "pattern": {
              "fillmode": "overlay",
              "size": 10,
              "solidity": 0.2
             }
            },
            "type": "histogram"
           }
          ],
          "histogram2d": [
           {
            "colorbar": {
             "outlinewidth": 0,
             "ticks": ""
            },
            "colorscale": [
             [
              0,
              "#0d0887"
             ],
             [
              0.1111111111111111,
              "#46039f"
             ],
             [
              0.2222222222222222,
              "#7201a8"
             ],
             [
              0.3333333333333333,
              "#9c179e"
             ],
             [
              0.4444444444444444,
              "#bd3786"
             ],
             [
              0.5555555555555556,
              "#d8576b"
             ],
             [
              0.6666666666666666,
              "#ed7953"
             ],
             [
              0.7777777777777778,
              "#fb9f3a"
             ],
             [
              0.8888888888888888,
              "#fdca26"
             ],
             [
              1,
              "#f0f921"
             ]
            ],
            "type": "histogram2d"
           }
          ],
          "histogram2dcontour": [
           {
            "colorbar": {
             "outlinewidth": 0,
             "ticks": ""
            },
            "colorscale": [
             [
              0,
              "#0d0887"
             ],
             [
              0.1111111111111111,
              "#46039f"
             ],
             [
              0.2222222222222222,
              "#7201a8"
             ],
             [
              0.3333333333333333,
              "#9c179e"
             ],
             [
              0.4444444444444444,
              "#bd3786"
             ],
             [
              0.5555555555555556,
              "#d8576b"
             ],
             [
              0.6666666666666666,
              "#ed7953"
             ],
             [
              0.7777777777777778,
              "#fb9f3a"
             ],
             [
              0.8888888888888888,
              "#fdca26"
             ],
             [
              1,
              "#f0f921"
             ]
            ],
            "type": "histogram2dcontour"
           }
          ],
          "mesh3d": [
           {
            "colorbar": {
             "outlinewidth": 0,
             "ticks": ""
            },
            "type": "mesh3d"
           }
          ],
          "parcoords": [
           {
            "line": {
             "colorbar": {
              "outlinewidth": 0,
              "ticks": ""
             }
            },
            "type": "parcoords"
           }
          ],
          "pie": [
           {
            "automargin": true,
            "type": "pie"
           }
          ],
          "scatter": [
           {
            "fillpattern": {
             "fillmode": "overlay",
             "size": 10,
             "solidity": 0.2
            },
            "type": "scatter"
           }
          ],
          "scatter3d": [
           {
            "line": {
             "colorbar": {
              "outlinewidth": 0,
              "ticks": ""
             }
            },
            "marker": {
             "colorbar": {
              "outlinewidth": 0,
              "ticks": ""
             }
            },
            "type": "scatter3d"
           }
          ],
          "scattercarpet": [
           {
            "marker": {
             "colorbar": {
              "outlinewidth": 0,
              "ticks": ""
             }
            },
            "type": "scattercarpet"
           }
          ],
          "scattergeo": [
           {
            "marker": {
             "colorbar": {
              "outlinewidth": 0,
              "ticks": ""
             }
            },
            "type": "scattergeo"
           }
          ],
          "scattergl": [
           {
            "marker": {
             "colorbar": {
              "outlinewidth": 0,
              "ticks": ""
             }
            },
            "type": "scattergl"
           }
          ],
          "scattermap": [
           {
            "marker": {
             "colorbar": {
              "outlinewidth": 0,
              "ticks": ""
             }
            },
            "type": "scattermap"
           }
          ],
          "scattermapbox": [
           {
            "marker": {
             "colorbar": {
              "outlinewidth": 0,
              "ticks": ""
             }
            },
            "type": "scattermapbox"
           }
          ],
          "scatterpolar": [
           {
            "marker": {
             "colorbar": {
              "outlinewidth": 0,
              "ticks": ""
             }
            },
            "type": "scatterpolar"
           }
          ],
          "scatterpolargl": [
           {
            "marker": {
             "colorbar": {
              "outlinewidth": 0,
              "ticks": ""
             }
            },
            "type": "scatterpolargl"
           }
          ],
          "scatterternary": [
           {
            "marker": {
             "colorbar": {
              "outlinewidth": 0,
              "ticks": ""
             }
            },
            "type": "scatterternary"
           }
          ],
          "surface": [
           {
            "colorbar": {
             "outlinewidth": 0,
             "ticks": ""
            },
            "colorscale": [
             [
              0,
              "#0d0887"
             ],
             [
              0.1111111111111111,
              "#46039f"
             ],
             [
              0.2222222222222222,
              "#7201a8"
             ],
             [
              0.3333333333333333,
              "#9c179e"
             ],
             [
              0.4444444444444444,
              "#bd3786"
             ],
             [
              0.5555555555555556,
              "#d8576b"
             ],
             [
              0.6666666666666666,
              "#ed7953"
             ],
             [
              0.7777777777777778,
              "#fb9f3a"
             ],
             [
              0.8888888888888888,
              "#fdca26"
             ],
             [
              1,
              "#f0f921"
             ]
            ],
            "type": "surface"
           }
          ],
          "table": [
           {
            "cells": {
             "fill": {
              "color": "#EBF0F8"
             },
             "line": {
              "color": "white"
             }
            },
            "header": {
             "fill": {
              "color": "#C8D4E3"
             },
             "line": {
              "color": "white"
             }
            },
            "type": "table"
           }
          ]
         },
         "layout": {
          "annotationdefaults": {
           "arrowcolor": "#2a3f5f",
           "arrowhead": 0,
           "arrowwidth": 1
          },
          "autotypenumbers": "strict",
          "coloraxis": {
           "colorbar": {
            "outlinewidth": 0,
            "ticks": ""
           }
          },
          "colorscale": {
           "diverging": [
            [
             0,
             "#8e0152"
            ],
            [
             0.1,
             "#c51b7d"
            ],
            [
             0.2,
             "#de77ae"
            ],
            [
             0.3,
             "#f1b6da"
            ],
            [
             0.4,
             "#fde0ef"
            ],
            [
             0.5,
             "#f7f7f7"
            ],
            [
             0.6,
             "#e6f5d0"
            ],
            [
             0.7,
             "#b8e186"
            ],
            [
             0.8,
             "#7fbc41"
            ],
            [
             0.9,
             "#4d9221"
            ],
            [
             1,
             "#276419"
            ]
           ],
           "sequential": [
            [
             0,
             "#0d0887"
            ],
            [
             0.1111111111111111,
             "#46039f"
            ],
            [
             0.2222222222222222,
             "#7201a8"
            ],
            [
             0.3333333333333333,
             "#9c179e"
            ],
            [
             0.4444444444444444,
             "#bd3786"
            ],
            [
             0.5555555555555556,
             "#d8576b"
            ],
            [
             0.6666666666666666,
             "#ed7953"
            ],
            [
             0.7777777777777778,
             "#fb9f3a"
            ],
            [
             0.8888888888888888,
             "#fdca26"
            ],
            [
             1,
             "#f0f921"
            ]
           ],
           "sequentialminus": [
            [
             0,
             "#0d0887"
            ],
            [
             0.1111111111111111,
             "#46039f"
            ],
            [
             0.2222222222222222,
             "#7201a8"
            ],
            [
             0.3333333333333333,
             "#9c179e"
            ],
            [
             0.4444444444444444,
             "#bd3786"
            ],
            [
             0.5555555555555556,
             "#d8576b"
            ],
            [
             0.6666666666666666,
             "#ed7953"
            ],
            [
             0.7777777777777778,
             "#fb9f3a"
            ],
            [
             0.8888888888888888,
             "#fdca26"
            ],
            [
             1,
             "#f0f921"
            ]
           ]
          },
          "colorway": [
           "#636efa",
           "#EF553B",
           "#00cc96",
           "#ab63fa",
           "#FFA15A",
           "#19d3f3",
           "#FF6692",
           "#B6E880",
           "#FF97FF",
           "#FECB52"
          ],
          "font": {
           "color": "#2a3f5f"
          },
          "geo": {
           "bgcolor": "white",
           "lakecolor": "white",
           "landcolor": "#E5ECF6",
           "showlakes": true,
           "showland": true,
           "subunitcolor": "white"
          },
          "hoverlabel": {
           "align": "left"
          },
          "hovermode": "closest",
          "mapbox": {
           "style": "light"
          },
          "paper_bgcolor": "white",
          "plot_bgcolor": "#E5ECF6",
          "polar": {
           "angularaxis": {
            "gridcolor": "white",
            "linecolor": "white",
            "ticks": ""
           },
           "bgcolor": "#E5ECF6",
           "radialaxis": {
            "gridcolor": "white",
            "linecolor": "white",
            "ticks": ""
           }
          },
          "scene": {
           "xaxis": {
            "backgroundcolor": "#E5ECF6",
            "gridcolor": "white",
            "gridwidth": 2,
            "linecolor": "white",
            "showbackground": true,
            "ticks": "",
            "zerolinecolor": "white"
           },
           "yaxis": {
            "backgroundcolor": "#E5ECF6",
            "gridcolor": "white",
            "gridwidth": 2,
            "linecolor": "white",
            "showbackground": true,
            "ticks": "",
            "zerolinecolor": "white"
           },
           "zaxis": {
            "backgroundcolor": "#E5ECF6",
            "gridcolor": "white",
            "gridwidth": 2,
            "linecolor": "white",
            "showbackground": true,
            "ticks": "",
            "zerolinecolor": "white"
           }
          },
          "shapedefaults": {
           "line": {
            "color": "#2a3f5f"
           }
          },
          "ternary": {
           "aaxis": {
            "gridcolor": "white",
            "linecolor": "white",
            "ticks": ""
           },
           "baxis": {
            "gridcolor": "white",
            "linecolor": "white",
            "ticks": ""
           },
           "bgcolor": "#E5ECF6",
           "caxis": {
            "gridcolor": "white",
            "linecolor": "white",
            "ticks": ""
           }
          },
          "title": {
           "x": 0.05
          },
          "xaxis": {
           "automargin": true,
           "gridcolor": "white",
           "linecolor": "white",
           "ticks": "",
           "title": {
            "standoff": 15
           },
           "zerolinecolor": "white",
           "zerolinewidth": 2
          },
          "yaxis": {
           "automargin": true,
           "gridcolor": "white",
           "linecolor": "white",
           "ticks": "",
           "title": {
            "standoff": 15
           },
           "zerolinecolor": "white",
           "zerolinewidth": 2
          }
         }
        },
        "title": {
         "text": "DBSCAN Clustering (PCA Reduced)"
        },
        "xaxis": {
         "anchor": "y",
         "domain": [
          0,
          1
         ],
         "title": {
          "text": "PC1"
         }
        },
        "yaxis": {
         "anchor": "x",
         "domain": [
          0,
          1
         ],
         "title": {
          "text": "PC2"
         }
        }
       }
      }
     },
     "metadata": {},
     "output_type": "display_data"
    }
   ],
   "source": [
    "# 8. Visualize Clusters using PCA + Plotly\n",
    "from sklearn.decomposition import PCA\n",
    "pca = PCA(n_components=2)\n",
    "components = pca.fit_transform(X_scaled)\n",
    "df['PC1'] = components[:, 0]\n",
    "df['PC2'] = components[:, 1]\n",
    "\n",
    "fig = px.scatter(df, x='PC1', y='PC2', color=df['KMeans_Cluster'].astype(str),\n",
    "                 title='KMeans Clustering (PCA Reduced)', labels={'color': 'Cluster'})\n",
    "fig.show()\n",
    "\n",
    "fig = px.scatter(df, x='PC1', y='PC2', color=df['Hierarchical_Cluster'].astype(str),\n",
    "                 title='Hierarchical Clustering (PCA Reduced)', labels={'color': 'Cluster'})\n",
    "fig.show()\n",
    "\n",
    "fig = px.scatter(df, x='PC1', y='PC2', color=df['DBSCAN_Cluster'].astype(str),\n",
    "                 title='DBSCAN Clustering (PCA Reduced)', labels={'color': 'Cluster'})\n",
    "fig.show()\n"
   ]
  },
  {
   "cell_type": "code",
   "execution_count": 8,
   "id": "43514642",
   "metadata": {},
   "outputs": [
    {
     "data": {
      "application/vnd.plotly.v1+json": {
       "config": {
        "plotlyServerURL": "https://plot.ly"
       },
       "data": [
        {
         "hovertemplate": "Cluster=0<br>PC1=%{x}<br>PC2=%{y}<br>PC3=%{z}<extra></extra>",
         "legendgroup": "0",
         "marker": {
          "color": "#636efa",
          "symbol": "circle"
         },
         "mode": "markers",
         "name": "0",
         "scene": "scene",
         "showlegend": true,
         "type": "scatter3d",
         "x": {
          "bdata": "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",
          "dtype": "f8"
         },
         "y": {
          "bdata": "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",
          "dtype": "f8"
         },
         "z": {
          "bdata": "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",
          "dtype": "f8"
         }
        },
        {
         "hovertemplate": "Cluster=1<br>PC1=%{x}<br>PC2=%{y}<br>PC3=%{z}<extra></extra>",
         "legendgroup": "1",
         "marker": {
          "color": "#EF553B",
          "symbol": "circle"
         },
         "mode": "markers",
         "name": "1",
         "scene": "scene",
         "showlegend": true,
         "type": "scatter3d",
         "x": {
          "bdata": "KspQoeZIxT9a1cIrPbnvP0zNQkXtnca/oTxqPrHr8z83uUSaRPXovwGCr3+lYta/sgfi6ZMIxr953WMwz/DovwYMw5c+WIe/+T04g60L0L9RVVTJU7/pvwknVdIM0vw/UShL9AE28T9YvXeCQHncvxRZh/V66L4/3Yr0h9Cl5L8G72ZU/ePov1G2wfxQZMS/PIrmpRGM7b8lYxv89bbQv2NGuSyEVry/OGbAH9DQDUCVQb9DFzEfQFhkgEDiIpY/64bhSaEO6D9FrRWdfLbgv6Smu8DSE9O/VhoOEXTh8b/6SNHJBXjWv50RvwtMIM+/4yFZgDjY6L+2fn7IcmnUv3DuPsMf6/C/sXPDDUxb27+9X4lT2K/mv95bDvFEE9E/S7EVuCmW77/ge5PMa8/zvxmz8KhmHQBA0W5uK00o5r9eInhNJPzcv6Fh9XswdOm/+JHmjqDM6L8Y6Qmpy8rKPzFi4MvOv9u/TPIHHKyZ5r8m10DrkSTYv/4B8K4f/MS/cC3hD9Ce57/PGljtt/DgP6FEJBGlPNG/7C3msPnb6z/2zD7AceHsvw==",
          "dtype": "f8"
         },
         "y": {
          "bdata": "JBDz4cpX9D+oMNM4+/LlP6X81RdVJgFAbBCOYvvj8D8lVTXPtyvxP/sDyRa34/I/FeaYeqhF9D92ImNAikgJQKx2EAlUuwFAfe4x5qCY6z+6Ce1FENL0PyJtVi+TYwRAkBppiQFHEED3dSpCAawRQPuyMCh2fQ9A+tSauq6e9j8sjGIoD1b2P5a1aLDjfRFAkxKzmZs09T8LVrzWZLPtP7AVNWwwKv0/XOyPOo+rHECsqWxc7uUrQE/DIzAqWAlAalu7qEj8/j8AoAD0YTMAQJ0Ram9fkfw/wLjjM/C36z+hc2iofTcGQFBxAp9EDPs/KKL1nPRS+D+9tjX8MxnyP7gv74pp0/g/ACrklDo4AEBWb15f6qf6P1NcoW8kLwpAfWMlrWdw6T9Y7tV5xCzwPzm1CzzPAiJAXkeYs4aM/D8V2Lt8nIXzPyWHvUcxNvA/fNmRVldx8j/vTCCp4QfzPyBc0jtjRPQ/xsFuaH99AUDsD2J/SND2P6ryKjXxmP0/b+aVWb9f/D9lcrt1T0oEQFAiNFXCiPQ/L91cgkrEAUCYzdBqpdT6Pw==",
          "dtype": "f8"
         },
         "z": {
          "bdata": "B699s6/3sL97nlgecAjyP0NdfzSXid0/bN8AB91Xlb/qpXy5Je8AQBrUdgJDnvA/994BzQas4T9x2bo+jbEBQISMaw7rEda/sDOZkS2C/z8n6q6lCv2ov0zIcP+b1f2/bwAZvnnA4L9El5GZiQD5vy/cPhDovQBA+xdl3WUKtr8U24MIGf31P3IZHRA1kw1AXCEdVnlv/T/MfbMHx+X8P0Z39HiXcwFAadESNL5wEkCUWpwcvwchwAi3A64y4tA/ueir+d9o1L9CdqOnMMr/P90JE9vSebU/6a/dvJAI9T9KC3SiqxICQOdaXbsc0wVAjbYFa32U9T/U7VmDI1TnP/vWmLuzheG//95mmIbAAUBd27SfO7TgP/+gelSWWwpAI282Id3AAECUW/9Iy5cBQEAmam4AAPq/gQKahldm3b985DWWkvv5P+EAKekFtfs/dKyHxogzxT/KkdKwbK/yPzEAn0RBkuE/RW0fv1072j922Ib5H9HjP00fjlN5p/O/FoYvKC3E5b+6lAPw2x7lP3TaAOfKjeW/k25MRkJg4z9vuTC3JLT2Pw==",
          "dtype": "f8"
         }
        },
        {
         "hovertemplate": "Cluster=2<br>PC1=%{x}<br>PC2=%{y}<br>PC3=%{z}<extra></extra>",
         "legendgroup": "2",
         "marker": {
          "color": "#00cc96",
          "symbol": "circle"
         },
         "mode": "markers",
         "name": "2",
         "scene": "scene",
         "showlegend": true,
         "type": "scatter3d",
         "x": {
          "bdata": "BUjVIhy+EkAX8JkpC/oIQPwLz2lAIv8/kXzmqAqCBkCEvEqWWdj9P57oEPWDEyNAI8//VoLIDEAHw4VpJmYSQGm36z2i3CBAw/Aghgg+F0A5kPLyCQYGQH0ozElWTilAXLjv14vXIEBpMd8VZ+oUQEeIKUWppglAWLVKA5B1AEDft0sMbhsIQL4VvJp35wlAz6cU+9WaAUBftDqL7a0HQHxDP7xe8P8/bDKUXehRAEB8HxYESZMWQOUOYRPb0wxA/rOfmY34E0BrIStRxWH9PxHtykMTfwFARZFG/6PM/T9+0BT7OXv8PzK0vw2s+P8/j37bP4jCCEDeMsDCOlEEQKy1KDi/MR5A3Kk0zirKA0DcqVYl+/QCQEq/MchVPQNACN+Q0cK5C0A=",
          "dtype": "f8"
         },
         "y": {
          "bdata": "+5xT5BfKDEC6XpWQ8h/Vv+Pb9+QxEfm/+HoKVs1Pub/86tQJaZjsv3NhsxRIH/g/8REc3nHU87+GpAwYMsjzv3J4j3Gw9OK/PcffPbOjA8Bfr+6Ev3Txv/qYNuC9uAXAsxM8U1GZ3L9Cyqi4MfDbv+adhG8BMNa/0xhx/iMH9L/+n44ioQD1v4jOT1jzvMy/QbbiBXvp7b9pwocatdnvv+itM7RJJfa/dn8VgAXz878ckFkO7kTlv/FqAIGhnvy/qtHbZn30xr+bYwGKpqfxv6zbBsi+zvW/9VsmDjdw6L8kTOte0p7tv56AF2aahv2/5LjMpixr6L/HKhRBHW7sv5bk3T0DCgvAhLuqNRmF/b9iGbKeIMbyvxQ4OVDUafC/BYsTLS2j8L8=",
          "dtype": "f8"
         },
         "z": {
          "bdata": "073ZDkzZ/7/0/XxT/urrvx8srVpgAai/twVNbeFC7L/FhmCR3WLTv/lN9ZHPA/w/ux2U0QFatD+JnLlypoSLv0qF+kDEjwNAXPWOBvYh0j8VLzrBiSzkPzMnP8fQx/w/oWe60du48T/gywvz3kHTv51tbuH78eg/J/biJuE61L+SCThk91jQPzEQO3HMiva/bGiO/sBuwr/sk5EqNpa1v1s4cRU+QcS/eheqXX9Wvj/+WFSU5THWP+4aKGYof8g/0R7l1dGY4r+YOqgIcVW9P5jjE98yw9m/zgbtk0Qbtb/pExR4j7Hdv9pfICjK484/ral28BcnwT+c9PhXSYLbP1q4XRrvLvo/sBFukgfczT8JWROnKnfIP/HeR+luLOG/HiE24TfS5j8=",
          "dtype": "f8"
         }
        }
       ],
       "layout": {
        "legend": {
         "title": {
          "text": "Cluster"
         },
         "tracegroupgap": 0
        },
        "scene": {
         "domain": {
          "x": [
           0,
           1
          ],
          "y": [
           0,
           1
          ]
         },
         "xaxis": {
          "title": {
           "text": "PC1"
          }
         },
         "yaxis": {
          "title": {
           "text": "PC2"
          }
         },
         "zaxis": {
          "title": {
           "text": "PC3"
          }
         }
        },
        "template": {
         "data": {
          "bar": [
           {
            "error_x": {
             "color": "#2a3f5f"
            },
            "error_y": {
             "color": "#2a3f5f"
            },
            "marker": {
             "line": {
              "color": "#E5ECF6",
              "width": 0.5
             },
             "pattern": {
              "fillmode": "overlay",
              "size": 10,
              "solidity": 0.2
             }
            },
            "type": "bar"
           }
          ],
          "barpolar": [
           {
            "marker": {
             "line": {
              "color": "#E5ECF6",
              "width": 0.5
             },
             "pattern": {
              "fillmode": "overlay",
              "size": 10,
              "solidity": 0.2
             }
            },
            "type": "barpolar"
           }
          ],
          "carpet": [
           {
            "aaxis": {
             "endlinecolor": "#2a3f5f",
             "gridcolor": "white",
             "linecolor": "white",
             "minorgridcolor": "white",
             "startlinecolor": "#2a3f5f"
            },
            "baxis": {
             "endlinecolor": "#2a3f5f",
             "gridcolor": "white",
             "linecolor": "white",
             "minorgridcolor": "white",
             "startlinecolor": "#2a3f5f"
            },
            "type": "carpet"
           }
          ],
          "choropleth": [
           {
            "colorbar": {
             "outlinewidth": 0,
             "ticks": ""
            },
            "type": "choropleth"
           }
          ],
          "contour": [
           {
            "colorbar": {
             "outlinewidth": 0,
             "ticks": ""
            },
            "colorscale": [
             [
              0,
              "#0d0887"
             ],
             [
              0.1111111111111111,
              "#46039f"
             ],
             [
              0.2222222222222222,
              "#7201a8"
             ],
             [
              0.3333333333333333,
              "#9c179e"
             ],
             [
              0.4444444444444444,
              "#bd3786"
             ],
             [
              0.5555555555555556,
              "#d8576b"
             ],
             [
              0.6666666666666666,
              "#ed7953"
             ],
             [
              0.7777777777777778,
              "#fb9f3a"
             ],
             [
              0.8888888888888888,
              "#fdca26"
             ],
             [
              1,
              "#f0f921"
             ]
            ],
            "type": "contour"
           }
          ],
          "contourcarpet": [
           {
            "colorbar": {
             "outlinewidth": 0,
             "ticks": ""
            },
            "type": "contourcarpet"
           }
          ],
          "heatmap": [
           {
            "colorbar": {
             "outlinewidth": 0,
             "ticks": ""
            },
            "colorscale": [
             [
              0,
              "#0d0887"
             ],
             [
              0.1111111111111111,
              "#46039f"
             ],
             [
              0.2222222222222222,
              "#7201a8"
             ],
             [
              0.3333333333333333,
              "#9c179e"
             ],
             [
              0.4444444444444444,
              "#bd3786"
             ],
             [
              0.5555555555555556,
              "#d8576b"
             ],
             [
              0.6666666666666666,
              "#ed7953"
             ],
             [
              0.7777777777777778,
              "#fb9f3a"
             ],
             [
              0.8888888888888888,
              "#fdca26"
             ],
             [
              1,
              "#f0f921"
             ]
            ],
            "type": "heatmap"
           }
          ],
          "histogram": [
           {
            "marker": {
             "pattern": {
              "fillmode": "overlay",
              "size": 10,
              "solidity": 0.2
             }
            },
            "type": "histogram"
           }
          ],
          "histogram2d": [
           {
            "colorbar": {
             "outlinewidth": 0,
             "ticks": ""
            },
            "colorscale": [
             [
              0,
              "#0d0887"
             ],
             [
              0.1111111111111111,
              "#46039f"
             ],
             [
              0.2222222222222222,
              "#7201a8"
             ],
             [
              0.3333333333333333,
              "#9c179e"
             ],
             [
              0.4444444444444444,
              "#bd3786"
             ],
             [
              0.5555555555555556,
              "#d8576b"
             ],
             [
              0.6666666666666666,
              "#ed7953"
             ],
             [
              0.7777777777777778,
              "#fb9f3a"
             ],
             [
              0.8888888888888888,
              "#fdca26"
             ],
             [
              1,
              "#f0f921"
             ]
            ],
            "type": "histogram2d"
           }
          ],
          "histogram2dcontour": [
           {
            "colorbar": {
             "outlinewidth": 0,
             "ticks": ""
            },
            "colorscale": [
             [
              0,
              "#0d0887"
             ],
             [
              0.1111111111111111,
              "#46039f"
             ],
             [
              0.2222222222222222,
              "#7201a8"
             ],
             [
              0.3333333333333333,
              "#9c179e"
             ],
             [
              0.4444444444444444,
              "#bd3786"
             ],
             [
              0.5555555555555556,
              "#d8576b"
             ],
             [
              0.6666666666666666,
              "#ed7953"
             ],
             [
              0.7777777777777778,
              "#fb9f3a"
             ],
             [
              0.8888888888888888,
              "#fdca26"
             ],
             [
              1,
              "#f0f921"
             ]
            ],
            "type": "histogram2dcontour"
           }
          ],
          "mesh3d": [
           {
            "colorbar": {
             "outlinewidth": 0,
             "ticks": ""
            },
            "type": "mesh3d"
           }
          ],
          "parcoords": [
           {
            "line": {
             "colorbar": {
              "outlinewidth": 0,
              "ticks": ""
             }
            },
            "type": "parcoords"
           }
          ],
          "pie": [
           {
            "automargin": true,
            "type": "pie"
           }
          ],
          "scatter": [
           {
            "fillpattern": {
             "fillmode": "overlay",
             "size": 10,
             "solidity": 0.2
            },
            "type": "scatter"
           }
          ],
          "scatter3d": [
           {
            "line": {
             "colorbar": {
              "outlinewidth": 0,
              "ticks": ""
             }
            },
            "marker": {
             "colorbar": {
              "outlinewidth": 0,
              "ticks": ""
             }
            },
            "type": "scatter3d"
           }
          ],
          "scattercarpet": [
           {
            "marker": {
             "colorbar": {
              "outlinewidth": 0,
              "ticks": ""
             }
            },
            "type": "scattercarpet"
           }
          ],
          "scattergeo": [
           {
            "marker": {
             "colorbar": {
              "outlinewidth": 0,
              "ticks": ""
             }
            },
            "type": "scattergeo"
           }
          ],
          "scattergl": [
           {
            "marker": {
             "colorbar": {
              "outlinewidth": 0,
              "ticks": ""
             }
            },
            "type": "scattergl"
           }
          ],
          "scattermap": [
           {
            "marker": {
             "colorbar": {
              "outlinewidth": 0,
              "ticks": ""
             }
            },
            "type": "scattermap"
           }
          ],
          "scattermapbox": [
           {
            "marker": {
             "colorbar": {
              "outlinewidth": 0,
              "ticks": ""
             }
            },
            "type": "scattermapbox"
           }
          ],
          "scatterpolar": [
           {
            "marker": {
             "colorbar": {
              "outlinewidth": 0,
              "ticks": ""
             }
            },
            "type": "scatterpolar"
           }
          ],
          "scatterpolargl": [
           {
            "marker": {
             "colorbar": {
              "outlinewidth": 0,
              "ticks": ""
             }
            },
            "type": "scatterpolargl"
           }
          ],
          "scatterternary": [
           {
            "marker": {
             "colorbar": {
              "outlinewidth": 0,
              "ticks": ""
             }
            },
            "type": "scatterternary"
           }
          ],
          "surface": [
           {
            "colorbar": {
             "outlinewidth": 0,
             "ticks": ""
            },
            "colorscale": [
             [
              0,
              "#0d0887"
             ],
             [
              0.1111111111111111,
              "#46039f"
             ],
             [
              0.2222222222222222,
              "#7201a8"
             ],
             [
              0.3333333333333333,
              "#9c179e"
             ],
             [
              0.4444444444444444,
              "#bd3786"
             ],
             [
              0.5555555555555556,
              "#d8576b"
             ],
             [
              0.6666666666666666,
              "#ed7953"
             ],
             [
              0.7777777777777778,
              "#fb9f3a"
             ],
             [
              0.8888888888888888,
              "#fdca26"
             ],
             [
              1,
              "#f0f921"
             ]
            ],
            "type": "surface"
           }
          ],
          "table": [
           {
            "cells": {
             "fill": {
              "color": "#EBF0F8"
             },
             "line": {
              "color": "white"
             }
            },
            "header": {
             "fill": {
              "color": "#C8D4E3"
             },
             "line": {
              "color": "white"
             }
            },
            "type": "table"
           }
          ]
         },
         "layout": {
          "annotationdefaults": {
           "arrowcolor": "#2a3f5f",
           "arrowhead": 0,
           "arrowwidth": 1
          },
          "autotypenumbers": "strict",
          "coloraxis": {
           "colorbar": {
            "outlinewidth": 0,
            "ticks": ""
           }
          },
          "colorscale": {
           "diverging": [
            [
             0,
             "#8e0152"
            ],
            [
             0.1,
             "#c51b7d"
            ],
            [
             0.2,
             "#de77ae"
            ],
            [
             0.3,
             "#f1b6da"
            ],
            [
             0.4,
             "#fde0ef"
            ],
            [
             0.5,
             "#f7f7f7"
            ],
            [
             0.6,
             "#e6f5d0"
            ],
            [
             0.7,
             "#b8e186"
            ],
            [
             0.8,
             "#7fbc41"
            ],
            [
             0.9,
             "#4d9221"
            ],
            [
             1,
             "#276419"
            ]
           ],
           "sequential": [
            [
             0,
             "#0d0887"
            ],
            [
             0.1111111111111111,
             "#46039f"
            ],
            [
             0.2222222222222222,
             "#7201a8"
            ],
            [
             0.3333333333333333,
             "#9c179e"
            ],
            [
             0.4444444444444444,
             "#bd3786"
            ],
            [
             0.5555555555555556,
             "#d8576b"
            ],
            [
             0.6666666666666666,
             "#ed7953"
            ],
            [
             0.7777777777777778,
             "#fb9f3a"
            ],
            [
             0.8888888888888888,
             "#fdca26"
            ],
            [
             1,
             "#f0f921"
            ]
           ],
           "sequentialminus": [
            [
             0,
             "#0d0887"
            ],
            [
             0.1111111111111111,
             "#46039f"
            ],
            [
             0.2222222222222222,
             "#7201a8"
            ],
            [
             0.3333333333333333,
             "#9c179e"
            ],
            [
             0.4444444444444444,
             "#bd3786"
            ],
            [
             0.5555555555555556,
             "#d8576b"
            ],
            [
             0.6666666666666666,
             "#ed7953"
            ],
            [
             0.7777777777777778,
             "#fb9f3a"
            ],
            [
             0.8888888888888888,
             "#fdca26"
            ],
            [
             1,
             "#f0f921"
            ]
           ]
          },
          "colorway": [
           "#636efa",
           "#EF553B",
           "#00cc96",
           "#ab63fa",
           "#FFA15A",
           "#19d3f3",
           "#FF6692",
           "#B6E880",
           "#FF97FF",
           "#FECB52"
          ],
          "font": {
           "color": "#2a3f5f"
          },
          "geo": {
           "bgcolor": "white",
           "lakecolor": "white",
           "landcolor": "#E5ECF6",
           "showlakes": true,
           "showland": true,
           "subunitcolor": "white"
          },
          "hoverlabel": {
           "align": "left"
          },
          "hovermode": "closest",
          "mapbox": {
           "style": "light"
          },
          "paper_bgcolor": "white",
          "plot_bgcolor": "#E5ECF6",
          "polar": {
           "angularaxis": {
            "gridcolor": "white",
            "linecolor": "white",
            "ticks": ""
           },
           "bgcolor": "#E5ECF6",
           "radialaxis": {
            "gridcolor": "white",
            "linecolor": "white",
            "ticks": ""
           }
          },
          "scene": {
           "xaxis": {
            "backgroundcolor": "#E5ECF6",
            "gridcolor": "white",
            "gridwidth": 2,
            "linecolor": "white",
            "showbackground": true,
            "ticks": "",
            "zerolinecolor": "white"
           },
           "yaxis": {
            "backgroundcolor": "#E5ECF6",
            "gridcolor": "white",
            "gridwidth": 2,
            "linecolor": "white",
            "showbackground": true,
            "ticks": "",
            "zerolinecolor": "white"
           },
           "zaxis": {
            "backgroundcolor": "#E5ECF6",
            "gridcolor": "white",
            "gridwidth": 2,
            "linecolor": "white",
            "showbackground": true,
            "ticks": "",
            "zerolinecolor": "white"
           }
          },
          "shapedefaults": {
           "line": {
            "color": "#2a3f5f"
           }
          },
          "ternary": {
           "aaxis": {
            "gridcolor": "white",
            "linecolor": "white",
            "ticks": ""
           },
           "baxis": {
            "gridcolor": "white",
            "linecolor": "white",
            "ticks": ""
           },
           "bgcolor": "#E5ECF6",
           "caxis": {
            "gridcolor": "white",
            "linecolor": "white",
            "ticks": ""
           }
          },
          "title": {
           "x": 0.05
          },
          "xaxis": {
           "automargin": true,
           "gridcolor": "white",
           "linecolor": "white",
           "ticks": "",
           "title": {
            "standoff": 15
           },
           "zerolinecolor": "white",
           "zerolinewidth": 2
          },
          "yaxis": {
           "automargin": true,
           "gridcolor": "white",
           "linecolor": "white",
           "ticks": "",
           "title": {
            "standoff": 15
           },
           "zerolinecolor": "white",
           "zerolinewidth": 2
          }
         }
        },
        "title": {
         "text": "KMeans Clustering (3D PCA Reduced)"
        }
       }
      }
     },
     "metadata": {},
     "output_type": "display_data"
    },
    {
     "data": {
      "application/vnd.plotly.v1+json": {
       "config": {
        "plotlyServerURL": "https://plot.ly"
       },
       "data": [
        {
         "hovertemplate": "Cluster=2<br>PC1=%{x}<br>PC2=%{y}<br>PC3=%{z}<extra></extra>",
         "legendgroup": "2",
         "marker": {
          "color": "#636efa",
          "symbol": "circle"
         },
         "mode": "markers",
         "name": "2",
         "scene": "scene",
         "showlegend": true,
         "type": "scatter3d",
         "x": {
          "bdata": "W/nqn769yD+fVHQbic3bP+Fn/qfi9Ok/JUgPV2D9w79ia8Z+XXXVv0pnQXy8/sE/rVRnX0d5+T8Cz243M2vkPzt+wWCF1+E/kxI8Df6P1r+p8pD7abjUv6E8aj6x6/M/wJ6BJgK6w78X8JkpC/oIQBOaGTJfaMU/9U44yEMg7z+8qzXRyFr5Py9NsJIWYus//AvPaUAi/z/S4ANh9gDSP5F85qgKggZAhLxKllnY/T+9eUZJYIbbPyPP/1aCyAxA9LME57ho5j8Hw4VpJmYSQIGB3+D1mu0/hTDmKYZdqL8j5lDbAxnNv+uLuzchmKA/STisc5LZ9j/D8CCGCD4XQE2Trldu9d6/P8iYpVdinz85kPLyCQYGQLNItlp+yPA/hi5PEuHb4T831zO7uSPav2kx3xVn6hRAPHm0MHl06D9wnoqq/gzTv/pe6s1NEvI/khKCpjbU9D9nevCvgt/GP8aCfCnz7+M/1aKawcVU9z/oJ2yzKZRSv6c8wnNmkvo/7yRBeKfp9T85q4qIZkrHPxEqe6VbQdy/zg2jBp+Ctz/zyBCFVZ3Pv8cMuZI/YO2/R4gpRammCUDCe247WU7bv1i1SgOQdQBAZpA+rh807T9qQGi0/s3PP64o6M/CMO8/J+MvRkIQ1D/ft0sMbhsIQPJLg29MDL8/tgwcWNIo/T98bK6XVsPgP6q6jbe8aus/vhW8mnfnCUCrly4msDTQv8AR/OmTffg/p9NOCKqK3z9WlbAzSPngv+uW29QrWOQ/teyqaAp/6r897AbbA/PKP73gFvuriuY/J628Gtym5z9SYqO/FEvoPzfSVhrUh9Y/z6cU+9WaAUBftDqL7a0HQOuG4UmhDug/fEM/vF7w/z9iln0TXqixv6kqY/MQa9W/bDKUXehRAEB8HxYESZMWQP5XSZY4mKU/cc2MaGng3z92JzFpcSbzP+UOYRPb0wxAdto+mwyH8j9a8Xvdf13RP/z20QoBf8e/UFlvgat21j/Qr1md4zbyPy9Ezu3Gvue//rOfmY34E0DFY1geu+vmP2ey4HCQjuS/jQgIPQwn8D+8JZ/Sz6f6P2TuKvIY+vY/AR+gZfs18z+6DTArD8jTv9M+yWoU2KW/3p1yz5nh7D8wOS+a1H7Rv/YO0bhmxsE/ayErUcVh/T8KRwJ/+0PUP0wpWSue8+o/Ee3KQxN/AUDkwuWq/rDgP0WRRv+jzP0/ftAU+zl7/D8ytL8NrPj/P6+kTI8abvI/j37bP4jCCEBN2uiqayXYv94ywMI6UQRAwoBExYl82T8KJJ1u5WjdPyZJBNcOII+/3Kk0zirKA0BZslRsUZXRvy3QuC/H8ew/3KlWJfv0AkBKvzHIVT0DQO3SAXsrefY/w809Fnw66T8/MIlt8ZjgPxEOsRWPQtQ/D7bnqeV94r+3Q00qnunnPyJIpfe7CNS/m4VTgfuV+j+MeyKnRzLkPzeOuqS0X/o/2HRVYVSq2L/K58unP82uv6EFTZaNYOK/fyY/n3DQtL/Yq7Dx5AnBP/IvAydbC+0/oqqQT+xvwj+4BtOXZo3yP1qm829/VuU/HOriuPPl4b9lrEMB8tmhv/TrPJrvHu4/ZpWpyYDStz+v9/R0Ne7QvwjfkNHCuQtA",
          "dtype": "f8"
         },
         "y": {
          "bdata": "ETZC/8GG07//1FlgtgTVv1PtdpRDFeo/VjbWBpfj0r9kBBei08zgv1hPaRorkc2/6We5ZV22578MfjsMgbfZv2iNZqj/avC/9QNronaByj+6u4rFyIPmv2wQjmL74/A/n3A+aYu74L+6XpWQ8h/Vv/iyrsy6MPG/xMEuoC6Q17/69bQ4ZRHyvxu/4Xt7We+/49v35DER+b9XtfY4Vnbpv/h6ClbNT7m//OrUCWmY7L/LXoLHtxvgv/ERHN5x1PO/ml3ckJh+8r+GpAwYMsjzv8nxekOcO+6/T19whTPQ478azvBIdAnrv5MyhL3jfsa/91qnazr73r89x989s6MDwCeqJIKRSvO/rqU+FPK9079fr+6Ev3Txv0OSgfqbkfa/dlK5z1uj0L8IOfvDmdngv0LKqLgx8Nu/ra+b/CF27r+GOfVKrR/zv9d3VzGUOKa/lreWPLBE67+VeQrniILhv/LgIlKSEfC/Bek2pEpP478ukvmb7vzov+3s6a2ku/G/8VKZWFxa4b+Y22mEjEnTv5qV2iNFJO6/ZTZWwjf4p79Vz2OTYc7pv9pppy9OkMC/5p2EbwEw1r/08OhVZlLXv9MYcf4jB/S/fFCchwer5r8Z1gt+vm3mv6FCtbZ1cva/a4egpbgB6b/+n44ioQD1v688Q3XUmOO/l68U1oswwj/1/hAiYHvTv2fMhrdonPO/iM5PWPO8zL+tyQnupNntv6WqqvJ22Pa/HwaPPqiO67+bjVZEKr/RvyRGhvpWX/S/TGSv84Rpzr9oCoDaknHTv6qOnFOv8eS/1u3tx1f06b97iHvJa230v5/YUm6HKei/QbbiBXvp7b9pwocatdnvv2pbu6hI/P4/6K0ztEkl9r/2CHrDTtjov3Bii7vejue/dn8VgAXz878ckFkO7kTlv+buwSvxcOW/zBX9jfc98L/wjrACUTLlv/FqAIGhnvy/QP/aeA9aq78BArbvJSPvv5y5Ar30YOO/FjmMaGXw279iu/mpPWTtv9Elnd3Gp8C/qtHbZn30xr+PCIpcWZLmP7fEA8JIH9q/PnoW1cXs8b9hLNrKts3zP+Bbdj7CxuW/YOrWl/L457+BvbOdDCvmvz06nCOSyLG/bWC2j6WF7b/YBHFUt1Tjv5Fggoc5tea/m2MBiqan8b+y7/jMMMDxv6MY4KLJrfe/rNsGyL7O9b+iHAT1qgXwv/VbJg43cOi/JEzrXtKe7b+egBdmmob9v9/raVCkm9m/5LjMpixr6L81EEoBmKLbv8cqFEEdbuy/QUChyUkh8r+nHPKRiSjovzBukbGdxe2/hLuqNRmF/b+OUggZUprxv4Nbc+666+m/YhmyniDG8r8UODlQ1Gnwvy1GQsUABfe/IQkXJLyg+b/7R8TcKcHnP4YaRTthmtK/g27nAmVyxz8yhGjsVHrLv/EKQtfUF+y/t01Ivaiw6z9AtEX6i2LMv8+lyniD9+e/aoV+YnAx4b9qEjd34prdP02TY5mrX7Y/PFLmabO287+nmqEB5u7Uv7fxwwhPZOy/tv3su6aD6b/6Xl29qhr1v94CPxaAVvC/yXeEtGkCt796PnsrXnzav6gxH0zCZau/SVvKt6MJ478oiRvPwS/MvwWLEy0to/C/",
          "dtype": "f8"
         },
         "z": {
          "bdata": "a0qhGE4Iwj9nVE25mmrUvzLf4g3pX/i/BZAftvLkwr8UyaSIjGfTP4mMu0vu9di/68q0OQbryr9PA311Hbnfv64DrxHah9y/k9CRgzXG77/KeD4nPTGlP2zfAAfdV5W/8mLaB8T95T/0/XxT/urrv4gv6LD4YNe/Kyst/hhs4D9umX9TWQKbv5W0nV57Nt8/HyytWmABqL8txnyR8R7SP7cFTW3hQuy/xYZgkd1i07+gwKD+OQHFP7sdlNEBWrQ/XTVW0Sc81b+JnLlypoSLv4Nx044dk8G/OTrMa+V20b8Cp9FHZxPIP/HuMxbASMi/PUP7l6cTrz9c9Y4G9iHSP9S86gLXxtW/PaIPGr18zr8VLzrBiSzkP96UDnCGqsu/FeuvCOiswr+B+GMFMmLVP+DLC/PeQdO/EDTqXpYXk7+u/cU91DjXv6Xu0pgjFsG/XWMbX9ac4L+XHuyHfOnfv8R10mbvKt+/QnKXVIl4pz8ye45WaODhvyaRcJh+38u/AkRdZ52S0j/8ONOXG+7GP9GZjL7vvN+/R26NznaC4r+gu3kmgDDSv7Sg1OpCneU/nW1u4fvx6D/ruDTIp8fkvyf24ibhOtS/mwp+5jZJ4b/+FInomZHfv2oFpR6VTsu/3zrTOvSA4r+SCThk91jQPxnIA35+ssS/lnQj5y+6zD8G7SCejsbmvzFDivkuV9O/MRA7ccyK9r9Yyl2wHzbev4yvOSD/aci/ZhVYnux63r96UNb5ZsK3Pyamo9zHO9C/FkLXW7Dhwb81DC400n7bv7DcdflOKrs/X11HJrDQ5L/qu2yaUTTSv7Oz7LdNat6/bGiO/sBuwr/sk5EqNpa1v7noq/nfaNS/WzhxFT5BxL85EXAVhEHSv/k93PM5M9+/eheqXX9Wvj/+WFSU5THWPwCUD2rhLtu/P50xqrwd0r+Sw9brsuPhv+4aKGYof8g/didIo524978uFjZGO86Wvwv1hfCIjd+/AQKDivss179CN/D0rdTdv65yatZPVtg/0R7l1dGY4r85mUma8izlv8UBK5/yCsQ/q8BKRw+s2b9KfmHJIe7yv79UXt8ws+a/4szUc3gU3D/bd+XtAF3lv50VwxzETq+/MABm6fe3yL9rg+NbLY+bP8c8Uh3PUba/mDqoCHFVvT86BulQfLHHvznqQ6bEIas/mOMT3zLD2b+VV7sStpjcv84G7ZNEG7W/6RMUeI+x3b/aXyAoyuPOP5i/tRxRpe6/ral28BcnwT8RL68/AALZP5z0+FdJgts/h+7eQMVx3b8fyOuR5qzhv9JQVgup8+K/sBFukgfczT+4TmivDOjTvwIDqQRqdNS/CVkTpyp3yD/x3kfpbizhv1XVXQwNOdG/ZMvN9S9Ftr82yHXIUu34vwY/MG66S+W/uUuyCOXq8r8Qeu2Znbnhv8s80++05ca/qcEE1SOj7L9nLCdOIqfjv5iFSfE2L7k/3KFaITe8mT8WH2szcDnsvzyCw9vMcPO/qc4j3XkB1L9zYgOfqIDQv7J1Te/Hf8q/61ncNylGyr8sL+ny/GLRvyhtFydN7cW/nbTCxP1H4T86+JD4rA7nPz2wUi5Rrrs/DqnTO02S4b9f4NMZ3KrgPx4hNuE30uY/",
          "dtype": "f8"
         }
        },
        {
         "hovertemplate": "Cluster=1<br>PC1=%{x}<br>PC2=%{y}<br>PC3=%{z}<extra></extra>",
         "legendgroup": "1",
         "marker": {
          "color": "#EF553B",
          "symbol": "circle"
         },
         "mode": "markers",
         "name": "1",
         "scene": "scene",
         "showlegend": true,
         "type": "scatter3d",
         "x": {
          "bdata": "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",
          "dtype": "f8"
         },
         "y": {
          "bdata": "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",
          "dtype": "f8"
         },
         "z": {
          "bdata": "fPW1CJbdxL8Hr32zr/ewv5BkXqN7XMe/fzlqr5GD0D97nlgecAjyP3M47a3uY+4/SP6+SJsE7D94+C9FD5DAPxW4ZlWWJMU/gOPX25h+0T/LuITzpSzWv0NdfzSXid0/073ZDkzZ/79NZxv0Jni6v7T28wC4YdU/6qV8uSXvAEBo3YZFuonRP8zwWkHDNeK/KR5tiMNP6z8a1HYCQ57wP7RoK+3FEN6/994BzQas4T9x2bo+jbEBQISMaw7rEda/bi1e010v0D/Q989PbYrjv96geofQnNC/sDOZkS2C/z+E6S5ZveztP3fY6v/j49S/wAmqLqum0j/zHEd9utbev1mrM4bNW+o/0hpomGYF8r/3EjVlwcqBvyfqrqUK/ai/TMhw/5vV/b/DVQFBX53hvxT9wYep89s/rYpo7hJT3T8UUsw4Bs3qv6hiIgAiILs/wNlCLAzt5b/IJeZ01pW+v0HZnCuJWOQ/bwAZvnnA4L9mRn+MzC3UvwVwD6eFN9s/Z6HcdJLerT+FcolssIzHv0SXkZmJAPm/YBSYcLYH47/Xcspg20Xgv0WXzvgQheC/CnvnV/KNwb8v3D4Q6L0AQDxfV4gucNQ/1unU5AYt0D8+/0doysS+v/sXZd1lCra/WRSRYyu6oj9iB5YP5zvWPyIp9n9yJKM/4el3WFzVwj+g7xor0nvSv/ssCfKIQtw/OXolOZbuy79NZRpTQYrVP8DOF7vvSti/PoCBQoM7qz8U24MIGf31P3IZHRA1kw1AGVkIsI/i1j99FXb6gN7dP1whHVZ5b/0/QWVmMeBg3L9kB21rgtrbvzm6Dj8dhNo/lPfx8OzKnT/VGOIb8xTCv8meJo8hWMa/pb6RCO94y78Id+BstuDVv9Z0qyb/pME/ZXh1Rtr48T/MfbMHx+X8P6B+pAl1Tsi/DaRg8ujvvr9r0b9xHVmUv090Hxahw9W/opqB/Qog9D9wllIuVqjUPwm7TUHzc+i/WSf5BM044z8W3k7d6avdvwwHg8Zjvd4/FVr6IrMyxL8WJyONrgXTP3eadQXbatm/pFVRze0t0L/HszVx3gPXv+O7LKXZPOm/Rnf0eJdzAUBNyAU5pvPOv64zGHKwzOu/wjDWChoWw79p0RI0vnASQMJvifNXbtu/l9Err8ky4b9kTOH2zwLSP3gq5VFx29U/8eEDFSOezL8DXWV7S/7Pv2LVeuXPsXE/CLcDrjLi0D/XFForMYqxPxN0ODZc0qs/6cByW93027/zfD0hNNnjv4/aoEhr7sS/SXtRThQwzz9FF5VYAMvYv+A+gLcTbNc/jcJy2ADx1L/CWt9nVD7QP35epu7ScN+/INTJbtT/5r+hRWW2g9jFv4DpTbsg6cc/5I0g6maW4z/qEDKknobcvylH/5amLNS/LtoNNuyL1r8A5jI9c8zcv4VmrhgfcPA/27ad45nO3b+3nwlcRZW5v4Jh4IYk6t2/kK5ukAGboL8nThvZWfnRP0mkabSNfrq/QnajpzDK/z/dCRPb0nm1P74/GGgoPes/7JoSAWgZ3j9/ATGUNavFv2V8zXFjdLi/uiQDrWKhxj+soK9GaSXQv+E53+oXvd6/vn2kflEV5L/gygpHSjH0P+mv3byQCPU/umiPwIWEy79KC3SiqxICQOdaXbsc0wVAUJYj6y0Hkb9UfSE4b97Sv6SWeNm9a+s/HAcVZeio3L+4/5q6M9SvP9ur3XNRiNc/x+Q+QUi02b9OAn/C2uLmv422BWt9lPU/0eQgKdr/5L8PEGpcSSXiv9TtWYMjVOc/+9aYu7OF4b8Mh07XB6HKvzTPw7+BUto//0vNzR2I4L//3maYhsABQF3btJ87tOA//6B6VJZbCkAjbzYh3cAAQLJnW0bj8re/sSd/RMhqjD8BY0W0uT/fP5Rb/0jLlwFAyb42GibR4r/RfJM2dlHUvytyfPg/e+O/4CvWizdA4j9WVfU5C2GgP+uIshhY698/0HjdAjgs4L+Aa03EthTQPxth4DwfBNs/sZYv9cHkw7+IYrY3YTvmv7rH5kcgtvU/IObyHEy4sL8Ei0agB6dzvyQpk4rSltS/Mcf33tRO5r/6unQU7MPKPx55jz4Q0+G/mV4wXreexb+DN9udDpraPyz9GpfjOew/QCZqbgAA+r/4qsBm9CHfv2icwyI3DOK/W3vGqyDMpD/UCmfHdGbcvyUVUGIc5cK/LFycRodV1z+BApqGV2bdv7Oj+8WVR+8/m9YFt7Iyzj8xqa6S1R7Vvz7rjyzJlPG/ae0DBe9Q779/f5frqTjcv7QmDzUu4vI/N2FwWtab2r/xKnp6nzbgv71YBstGjuC/m40H01i/0L9KEQHHkuzfv3HXzFXEuuc/i4qzZuH1478lvNwOX/XiP7BU43V1ntO/qegLLP/T3792Ue9Suw3IvzqtK1p82tu/tIzthPSgdL+YaqzSndrYv/9pkoJo3Og/qRgL5I9ZyL985DWWkvv5P3qxElRQzdc/eUnCS+Dfs78/AospEwnRvzD3WTabksK/4QAp6QW1+z+vxWV3XHTgv6hpQpN2g/I/dKyHxogzxT/KkdKwbK/yP23jUXF83+G/hb/ApgCXnr9j0he9xyrlv7URirMtRuM/Qo3KW7gAbD+bVuw85wrAv75gP0XYF+W/6dyKnfFO5r+GtYPK7ErjvzEAn0RBkuE/+VZJwOnAyD+/JZ62lGiRv6OmKKpEd8K/+bVHmUQ+gr8EEMZTQoOAP3lqvV2Bw+C/RW0fv1072j8ZFcOJJXbyP3nkcxZWFvE/RnHMiyto2T8uC2xrqmTHv3bYhvkf0eM/91cXJVbm2L9NH45Teafzv7S7fnu5xdS/xD/Vh+9Iyb/yHfW0MtXYP+adI0fuDPA/FoYvKC3E5b+6lAPw2x7lP3C7zQF3cNq/pHMzhFKn2L902gDnyo3lv4wMEI8UaOs/bqX6kZNa5r+TbkxGQmDjP2+5MLcktPY/8lS15sGJ0L+4ORrQpIfTvw==",
          "dtype": "f8"
         }
        },
        {
         "hovertemplate": "Cluster=0<br>PC1=%{x}<br>PC2=%{y}<br>PC3=%{z}<extra></extra>",
         "legendgroup": "0",
         "marker": {
          "color": "#00cc96",
          "symbol": "circle"
         },
         "mode": "markers",
         "name": "0",
         "scene": "scene",
         "showlegend": true,
         "type": "scatter3d",
         "x": {
          "bdata": "nugQ9YMTI0Bpt+s9otwgQH0ozElWTilAXLjv14vXIECVQb9DFzEfQKy1KDi/MR5A",
          "dtype": "f8"
         },
         "y": {
          "bdata": "c2GzFEgf+D9yeI9xsPTiv/qYNuC9uAXAsxM8U1GZ3L+sqWxc7uUrQJbk3T0DCgvA",
          "dtype": "f8"
         },
         "z": {
          "bdata": "+U31kc8D/D9KhfpAxI8DQDMnP8fQx/w/oWe60du48T+UWpwcvwchwFq4XRrvLvo/",
          "dtype": "f8"
         }
        }
       ],
       "layout": {
        "legend": {
         "title": {
          "text": "Cluster"
         },
         "tracegroupgap": 0
        },
        "scene": {
         "domain": {
          "x": [
           0,
           1
          ],
          "y": [
           0,
           1
          ]
         },
         "xaxis": {
          "title": {
           "text": "PC1"
          }
         },
         "yaxis": {
          "title": {
           "text": "PC2"
          }
         },
         "zaxis": {
          "title": {
           "text": "PC3"
          }
         }
        },
        "template": {
         "data": {
          "bar": [
           {
            "error_x": {
             "color": "#2a3f5f"
            },
            "error_y": {
             "color": "#2a3f5f"
            },
            "marker": {
             "line": {
              "color": "#E5ECF6",
              "width": 0.5
             },
             "pattern": {
              "fillmode": "overlay",
              "size": 10,
              "solidity": 0.2
             }
            },
            "type": "bar"
           }
          ],
          "barpolar": [
           {
            "marker": {
             "line": {
              "color": "#E5ECF6",
              "width": 0.5
             },
             "pattern": {
              "fillmode": "overlay",
              "size": 10,
              "solidity": 0.2
             }
            },
            "type": "barpolar"
           }
          ],
          "carpet": [
           {
            "aaxis": {
             "endlinecolor": "#2a3f5f",
             "gridcolor": "white",
             "linecolor": "white",
             "minorgridcolor": "white",
             "startlinecolor": "#2a3f5f"
            },
            "baxis": {
             "endlinecolor": "#2a3f5f",
             "gridcolor": "white",
             "linecolor": "white",
             "minorgridcolor": "white",
             "startlinecolor": "#2a3f5f"
            },
            "type": "carpet"
           }
          ],
          "choropleth": [
           {
            "colorbar": {
             "outlinewidth": 0,
             "ticks": ""
            },
            "type": "choropleth"
           }
          ],
          "contour": [
           {
            "colorbar": {
             "outlinewidth": 0,
             "ticks": ""
            },
            "colorscale": [
             [
              0,
              "#0d0887"
             ],
             [
              0.1111111111111111,
              "#46039f"
             ],
             [
              0.2222222222222222,
              "#7201a8"
             ],
             [
              0.3333333333333333,
              "#9c179e"
             ],
             [
              0.4444444444444444,
              "#bd3786"
             ],
             [
              0.5555555555555556,
              "#d8576b"
             ],
             [
              0.6666666666666666,
              "#ed7953"
             ],
             [
              0.7777777777777778,
              "#fb9f3a"
             ],
             [
              0.8888888888888888,
              "#fdca26"
             ],
             [
              1,
              "#f0f921"
             ]
            ],
            "type": "contour"
           }
          ],
          "contourcarpet": [
           {
            "colorbar": {
             "outlinewidth": 0,
             "ticks": ""
            },
            "type": "contourcarpet"
           }
          ],
          "heatmap": [
           {
            "colorbar": {
             "outlinewidth": 0,
             "ticks": ""
            },
            "colorscale": [
             [
              0,
              "#0d0887"
             ],
             [
              0.1111111111111111,
              "#46039f"
             ],
             [
              0.2222222222222222,
              "#7201a8"
             ],
             [
              0.3333333333333333,
              "#9c179e"
             ],
             [
              0.4444444444444444,
              "#bd3786"
             ],
             [
              0.5555555555555556,
              "#d8576b"
             ],
             [
              0.6666666666666666,
              "#ed7953"
             ],
             [
              0.7777777777777778,
              "#fb9f3a"
             ],
             [
              0.8888888888888888,
              "#fdca26"
             ],
             [
              1,
              "#f0f921"
             ]
            ],
            "type": "heatmap"
           }
          ],
          "histogram": [
           {
            "marker": {
             "pattern": {
              "fillmode": "overlay",
              "size": 10,
              "solidity": 0.2
             }
            },
            "type": "histogram"
           }
          ],
          "histogram2d": [
           {
            "colorbar": {
             "outlinewidth": 0,
             "ticks": ""
            },
            "colorscale": [
             [
              0,
              "#0d0887"
             ],
             [
              0.1111111111111111,
              "#46039f"
             ],
             [
              0.2222222222222222,
              "#7201a8"
             ],
             [
              0.3333333333333333,
              "#9c179e"
             ],
             [
              0.4444444444444444,
              "#bd3786"
             ],
             [
              0.5555555555555556,
              "#d8576b"
             ],
             [
              0.6666666666666666,
              "#ed7953"
             ],
             [
              0.7777777777777778,
              "#fb9f3a"
             ],
             [
              0.8888888888888888,
              "#fdca26"
             ],
             [
              1,
              "#f0f921"
             ]
            ],
            "type": "histogram2d"
           }
          ],
          "histogram2dcontour": [
           {
            "colorbar": {
             "outlinewidth": 0,
             "ticks": ""
            },
            "colorscale": [
             [
              0,
              "#0d0887"
             ],
             [
              0.1111111111111111,
              "#46039f"
             ],
             [
              0.2222222222222222,
              "#7201a8"
             ],
             [
              0.3333333333333333,
              "#9c179e"
             ],
             [
              0.4444444444444444,
              "#bd3786"
             ],
             [
              0.5555555555555556,
              "#d8576b"
             ],
             [
              0.6666666666666666,
              "#ed7953"
             ],
             [
              0.7777777777777778,
              "#fb9f3a"
             ],
             [
              0.8888888888888888,
              "#fdca26"
             ],
             [
              1,
              "#f0f921"
             ]
            ],
            "type": "histogram2dcontour"
           }
          ],
          "mesh3d": [
           {
            "colorbar": {
             "outlinewidth": 0,
             "ticks": ""
            },
            "type": "mesh3d"
           }
          ],
          "parcoords": [
           {
            "line": {
             "colorbar": {
              "outlinewidth": 0,
              "ticks": ""
             }
            },
            "type": "parcoords"
           }
          ],
          "pie": [
           {
            "automargin": true,
            "type": "pie"
           }
          ],
          "scatter": [
           {
            "fillpattern": {
             "fillmode": "overlay",
             "size": 10,
             "solidity": 0.2
            },
            "type": "scatter"
           }
          ],
          "scatter3d": [
           {
            "line": {
             "colorbar": {
              "outlinewidth": 0,
              "ticks": ""
             }
            },
            "marker": {
             "colorbar": {
              "outlinewidth": 0,
              "ticks": ""
             }
            },
            "type": "scatter3d"
           }
          ],
          "scattercarpet": [
           {
            "marker": {
             "colorbar": {
              "outlinewidth": 0,
              "ticks": ""
             }
            },
            "type": "scattercarpet"
           }
          ],
          "scattergeo": [
           {
            "marker": {
             "colorbar": {
              "outlinewidth": 0,
              "ticks": ""
             }
            },
            "type": "scattergeo"
           }
          ],
          "scattergl": [
           {
            "marker": {
             "colorbar": {
              "outlinewidth": 0,
              "ticks": ""
             }
            },
            "type": "scattergl"
           }
          ],
          "scattermap": [
           {
            "marker": {
             "colorbar": {
              "outlinewidth": 0,
              "ticks": ""
             }
            },
            "type": "scattermap"
           }
          ],
          "scattermapbox": [
           {
            "marker": {
             "colorbar": {
              "outlinewidth": 0,
              "ticks": ""
             }
            },
            "type": "scattermapbox"
           }
          ],
          "scatterpolar": [
           {
            "marker": {
             "colorbar": {
              "outlinewidth": 0,
              "ticks": ""
             }
            },
            "type": "scatterpolar"
           }
          ],
          "scatterpolargl": [
           {
            "marker": {
             "colorbar": {
              "outlinewidth": 0,
              "ticks": ""
             }
            },
            "type": "scatterpolargl"
           }
          ],
          "scatterternary": [
           {
            "marker": {
             "colorbar": {
              "outlinewidth": 0,
              "ticks": ""
             }
            },
            "type": "scatterternary"
           }
          ],
          "surface": [
           {
            "colorbar": {
             "outlinewidth": 0,
             "ticks": ""
            },
            "colorscale": [
             [
              0,
              "#0d0887"
             ],
             [
              0.1111111111111111,
              "#46039f"
             ],
             [
              0.2222222222222222,
              "#7201a8"
             ],
             [
              0.3333333333333333,
              "#9c179e"
             ],
             [
              0.4444444444444444,
              "#bd3786"
             ],
             [
              0.5555555555555556,
              "#d8576b"
             ],
             [
              0.6666666666666666,
              "#ed7953"
             ],
             [
              0.7777777777777778,
              "#fb9f3a"
             ],
             [
              0.8888888888888888,
              "#fdca26"
             ],
             [
              1,
              "#f0f921"
             ]
            ],
            "type": "surface"
           }
          ],
          "table": [
           {
            "cells": {
             "fill": {
              "color": "#EBF0F8"
             },
             "line": {
              "color": "white"
             }
            },
            "header": {
             "fill": {
              "color": "#C8D4E3"
             },
             "line": {
              "color": "white"
             }
            },
            "type": "table"
           }
          ]
         },
         "layout": {
          "annotationdefaults": {
           "arrowcolor": "#2a3f5f",
           "arrowhead": 0,
           "arrowwidth": 1
          },
          "autotypenumbers": "strict",
          "coloraxis": {
           "colorbar": {
            "outlinewidth": 0,
            "ticks": ""
           }
          },
          "colorscale": {
           "diverging": [
            [
             0,
             "#8e0152"
            ],
            [
             0.1,
             "#c51b7d"
            ],
            [
             0.2,
             "#de77ae"
            ],
            [
             0.3,
             "#f1b6da"
            ],
            [
             0.4,
             "#fde0ef"
            ],
            [
             0.5,
             "#f7f7f7"
            ],
            [
             0.6,
             "#e6f5d0"
            ],
            [
             0.7,
             "#b8e186"
            ],
            [
             0.8,
             "#7fbc41"
            ],
            [
             0.9,
             "#4d9221"
            ],
            [
             1,
             "#276419"
            ]
           ],
           "sequential": [
            [
             0,
             "#0d0887"
            ],
            [
             0.1111111111111111,
             "#46039f"
            ],
            [
             0.2222222222222222,
             "#7201a8"
            ],
            [
             0.3333333333333333,
             "#9c179e"
            ],
            [
             0.4444444444444444,
             "#bd3786"
            ],
            [
             0.5555555555555556,
             "#d8576b"
            ],
            [
             0.6666666666666666,
             "#ed7953"
            ],
            [
             0.7777777777777778,
             "#fb9f3a"
            ],
            [
             0.8888888888888888,
             "#fdca26"
            ],
            [
             1,
             "#f0f921"
            ]
           ],
           "sequentialminus": [
            [
             0,
             "#0d0887"
            ],
            [
             0.1111111111111111,
             "#46039f"
            ],
            [
             0.2222222222222222,
             "#7201a8"
            ],
            [
             0.3333333333333333,
             "#9c179e"
            ],
            [
             0.4444444444444444,
             "#bd3786"
            ],
            [
             0.5555555555555556,
             "#d8576b"
            ],
            [
             0.6666666666666666,
             "#ed7953"
            ],
            [
             0.7777777777777778,
             "#fb9f3a"
            ],
            [
             0.8888888888888888,
             "#fdca26"
            ],
            [
             1,
             "#f0f921"
            ]
           ]
          },
          "colorway": [
           "#636efa",
           "#EF553B",
           "#00cc96",
           "#ab63fa",
           "#FFA15A",
           "#19d3f3",
           "#FF6692",
           "#B6E880",
           "#FF97FF",
           "#FECB52"
          ],
          "font": {
           "color": "#2a3f5f"
          },
          "geo": {
           "bgcolor": "white",
           "lakecolor": "white",
           "landcolor": "#E5ECF6",
           "showlakes": true,
           "showland": true,
           "subunitcolor": "white"
          },
          "hoverlabel": {
           "align": "left"
          },
          "hovermode": "closest",
          "mapbox": {
           "style": "light"
          },
          "paper_bgcolor": "white",
          "plot_bgcolor": "#E5ECF6",
          "polar": {
           "angularaxis": {
            "gridcolor": "white",
            "linecolor": "white",
            "ticks": ""
           },
           "bgcolor": "#E5ECF6",
           "radialaxis": {
            "gridcolor": "white",
            "linecolor": "white",
            "ticks": ""
           }
          },
          "scene": {
           "xaxis": {
            "backgroundcolor": "#E5ECF6",
            "gridcolor": "white",
            "gridwidth": 2,
            "linecolor": "white",
            "showbackground": true,
            "ticks": "",
            "zerolinecolor": "white"
           },
           "yaxis": {
            "backgroundcolor": "#E5ECF6",
            "gridcolor": "white",
            "gridwidth": 2,
            "linecolor": "white",
            "showbackground": true,
            "ticks": "",
            "zerolinecolor": "white"
           },
           "zaxis": {
            "backgroundcolor": "#E5ECF6",
            "gridcolor": "white",
            "gridwidth": 2,
            "linecolor": "white",
            "showbackground": true,
            "ticks": "",
            "zerolinecolor": "white"
           }
          },
          "shapedefaults": {
           "line": {
            "color": "#2a3f5f"
           }
          },
          "ternary": {
           "aaxis": {
            "gridcolor": "white",
            "linecolor": "white",
            "ticks": ""
           },
           "baxis": {
            "gridcolor": "white",
            "linecolor": "white",
            "ticks": ""
           },
           "bgcolor": "#E5ECF6",
           "caxis": {
            "gridcolor": "white",
            "linecolor": "white",
            "ticks": ""
           }
          },
          "title": {
           "x": 0.05
          },
          "xaxis": {
           "automargin": true,
           "gridcolor": "white",
           "linecolor": "white",
           "ticks": "",
           "title": {
            "standoff": 15
           },
           "zerolinecolor": "white",
           "zerolinewidth": 2
          },
          "yaxis": {
           "automargin": true,
           "gridcolor": "white",
           "linecolor": "white",
           "ticks": "",
           "title": {
            "standoff": 15
           },
           "zerolinecolor": "white",
           "zerolinewidth": 2
          }
         }
        },
        "title": {
         "text": "Hierarchical Clustering (3D PCA Reduced)"
        }
       }
      }
     },
     "metadata": {},
     "output_type": "display_data"
    },
    {
     "data": {
      "application/vnd.plotly.v1+json": {
       "config": {
        "plotlyServerURL": "https://plot.ly"
       },
       "data": [
        {
         "hovertemplate": "Cluster=0<br>PC1=%{x}<br>PC2=%{y}<br>PC3=%{z}<extra></extra>",
         "legendgroup": "0",
         "marker": {
          "color": "#636efa",
          "symbol": "circle"
         },
         "mode": "markers",
         "name": "0",
         "scene": "scene",
         "showlegend": true,
         "type": "scatter3d",
         "x": {
          "bdata": "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",
          "dtype": "f8"
         },
         "y": {
          "bdata": "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",
          "dtype": "f8"
         },
         "z": {
          "bdata": "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",
          "dtype": "f8"
         }
        },
        {
         "hovertemplate": "Cluster=-1<br>PC1=%{x}<br>PC2=%{y}<br>PC3=%{z}<extra></extra>",
         "legendgroup": "-1",
         "marker": {
          "color": "#EF553B",
          "symbol": "circle"
         },
         "mode": "markers",
         "name": "-1",
         "scene": "scene",
         "showlegend": true,
         "type": "scatter3d",
         "x": {
          "bdata": "BUjVIhy+EkCe6BD1gxMjQGm36z2i3CBAw/Aghgg+F0AJJ1XSDNL8P30ozElWTilAXLjv14vXIEBRKEv0ATbxP1i9d4JAedy/FFmH9Xrovj9RtsH8UGTEvzhmwB/Q0A1AlUG/QxcxH0D+s5+ZjfgTQBmz8KhmHQBArLUoOL8xHkA=",
          "dtype": "f8"
         },
         "y": {
          "bdata": "+5xT5BfKDEBzYbMUSB/4P3J4j3Gw9OK/PcffPbOjA8AibVYvk2MEQPqYNuC9uAXAsxM8U1GZ3L+QGmmJAUcQQPd1KkIBrBFA+7IwKHZ9D0CWtWiw430RQFzsjzqPqxxArKlsXO7lK0Cq0dtmffTGvzm1CzzPAiJAluTdPQMKC8A=",
          "dtype": "f8"
         },
         "z": {
          "bdata": "073ZDkzZ/7/5TfWRzwP8P0qF+kDEjwNAXPWOBvYh0j9MyHD/m9X9vzMnP8fQx/w/oWe60du48T9vABm+ecDgv0SXkZmJAPm/L9w+EOi9AEByGR0QNZMNQGnREjS+cBJAlFqcHL8HIcDRHuXV0Zjiv0Amam4AAPq/WrhdGu8u+j8=",
          "dtype": "f8"
         }
        }
       ],
       "layout": {
        "legend": {
         "title": {
          "text": "Cluster"
         },
         "tracegroupgap": 0
        },
        "scene": {
         "domain": {
          "x": [
           0,
           1
          ],
          "y": [
           0,
           1
          ]
         },
         "xaxis": {
          "title": {
           "text": "PC1"
          }
         },
         "yaxis": {
          "title": {
           "text": "PC2"
          }
         },
         "zaxis": {
          "title": {
           "text": "PC3"
          }
         }
        },
        "template": {
         "data": {
          "bar": [
           {
            "error_x": {
             "color": "#2a3f5f"
            },
            "error_y": {
             "color": "#2a3f5f"
            },
            "marker": {
             "line": {
              "color": "#E5ECF6",
              "width": 0.5
             },
             "pattern": {
              "fillmode": "overlay",
              "size": 10,
              "solidity": 0.2
             }
            },
            "type": "bar"
           }
          ],
          "barpolar": [
           {
            "marker": {
             "line": {
              "color": "#E5ECF6",
              "width": 0.5
             },
             "pattern": {
              "fillmode": "overlay",
              "size": 10,
              "solidity": 0.2
             }
            },
            "type": "barpolar"
           }
          ],
          "carpet": [
           {
            "aaxis": {
             "endlinecolor": "#2a3f5f",
             "gridcolor": "white",
             "linecolor": "white",
             "minorgridcolor": "white",
             "startlinecolor": "#2a3f5f"
            },
            "baxis": {
             "endlinecolor": "#2a3f5f",
             "gridcolor": "white",
             "linecolor": "white",
             "minorgridcolor": "white",
             "startlinecolor": "#2a3f5f"
            },
            "type": "carpet"
           }
          ],
          "choropleth": [
           {
            "colorbar": {
             "outlinewidth": 0,
             "ticks": ""
            },
            "type": "choropleth"
           }
          ],
          "contour": [
           {
            "colorbar": {
             "outlinewidth": 0,
             "ticks": ""
            },
            "colorscale": [
             [
              0,
              "#0d0887"
             ],
             [
              0.1111111111111111,
              "#46039f"
             ],
             [
              0.2222222222222222,
              "#7201a8"
             ],
             [
              0.3333333333333333,
              "#9c179e"
             ],
             [
              0.4444444444444444,
              "#bd3786"
             ],
             [
              0.5555555555555556,
              "#d8576b"
             ],
             [
              0.6666666666666666,
              "#ed7953"
             ],
             [
              0.7777777777777778,
              "#fb9f3a"
             ],
             [
              0.8888888888888888,
              "#fdca26"
             ],
             [
              1,
              "#f0f921"
             ]
            ],
            "type": "contour"
           }
          ],
          "contourcarpet": [
           {
            "colorbar": {
             "outlinewidth": 0,
             "ticks": ""
            },
            "type": "contourcarpet"
           }
          ],
          "heatmap": [
           {
            "colorbar": {
             "outlinewidth": 0,
             "ticks": ""
            },
            "colorscale": [
             [
              0,
              "#0d0887"
             ],
             [
              0.1111111111111111,
              "#46039f"
             ],
             [
              0.2222222222222222,
              "#7201a8"
             ],
             [
              0.3333333333333333,
              "#9c179e"
             ],
             [
              0.4444444444444444,
              "#bd3786"
             ],
             [
              0.5555555555555556,
              "#d8576b"
             ],
             [
              0.6666666666666666,
              "#ed7953"
             ],
             [
              0.7777777777777778,
              "#fb9f3a"
             ],
             [
              0.8888888888888888,
              "#fdca26"
             ],
             [
              1,
              "#f0f921"
             ]
            ],
            "type": "heatmap"
           }
          ],
          "histogram": [
           {
            "marker": {
             "pattern": {
              "fillmode": "overlay",
              "size": 10,
              "solidity": 0.2
             }
            },
            "type": "histogram"
           }
          ],
          "histogram2d": [
           {
            "colorbar": {
             "outlinewidth": 0,
             "ticks": ""
            },
            "colorscale": [
             [
              0,
              "#0d0887"
             ],
             [
              0.1111111111111111,
              "#46039f"
             ],
             [
              0.2222222222222222,
              "#7201a8"
             ],
             [
              0.3333333333333333,
              "#9c179e"
             ],
             [
              0.4444444444444444,
              "#bd3786"
             ],
             [
              0.5555555555555556,
              "#d8576b"
             ],
             [
              0.6666666666666666,
              "#ed7953"
             ],
             [
              0.7777777777777778,
              "#fb9f3a"
             ],
             [
              0.8888888888888888,
              "#fdca26"
             ],
             [
              1,
              "#f0f921"
             ]
            ],
            "type": "histogram2d"
           }
          ],
          "histogram2dcontour": [
           {
            "colorbar": {
             "outlinewidth": 0,
             "ticks": ""
            },
            "colorscale": [
             [
              0,
              "#0d0887"
             ],
             [
              0.1111111111111111,
              "#46039f"
             ],
             [
              0.2222222222222222,
              "#7201a8"
             ],
             [
              0.3333333333333333,
              "#9c179e"
             ],
             [
              0.4444444444444444,
              "#bd3786"
             ],
             [
              0.5555555555555556,
              "#d8576b"
             ],
             [
              0.6666666666666666,
              "#ed7953"
             ],
             [
              0.7777777777777778,
              "#fb9f3a"
             ],
             [
              0.8888888888888888,
              "#fdca26"
             ],
             [
              1,
              "#f0f921"
             ]
            ],
            "type": "histogram2dcontour"
           }
          ],
          "mesh3d": [
           {
            "colorbar": {
             "outlinewidth": 0,
             "ticks": ""
            },
            "type": "mesh3d"
           }
          ],
          "parcoords": [
           {
            "line": {
             "colorbar": {
              "outlinewidth": 0,
              "ticks": ""
             }
            },
            "type": "parcoords"
           }
          ],
          "pie": [
           {
            "automargin": true,
            "type": "pie"
           }
          ],
          "scatter": [
           {
            "fillpattern": {
             "fillmode": "overlay",
             "size": 10,
             "solidity": 0.2
            },
            "type": "scatter"
           }
          ],
          "scatter3d": [
           {
            "line": {
             "colorbar": {
              "outlinewidth": 0,
              "ticks": ""
             }
            },
            "marker": {
             "colorbar": {
              "outlinewidth": 0,
              "ticks": ""
             }
            },
            "type": "scatter3d"
           }
          ],
          "scattercarpet": [
           {
            "marker": {
             "colorbar": {
              "outlinewidth": 0,
              "ticks": ""
             }
            },
            "type": "scattercarpet"
           }
          ],
          "scattergeo": [
           {
            "marker": {
             "colorbar": {
              "outlinewidth": 0,
              "ticks": ""
             }
            },
            "type": "scattergeo"
           }
          ],
          "scattergl": [
           {
            "marker": {
             "colorbar": {
              "outlinewidth": 0,
              "ticks": ""
             }
            },
            "type": "scattergl"
           }
          ],
          "scattermap": [
           {
            "marker": {
             "colorbar": {
              "outlinewidth": 0,
              "ticks": ""
             }
            },
            "type": "scattermap"
           }
          ],
          "scattermapbox": [
           {
            "marker": {
             "colorbar": {
              "outlinewidth": 0,
              "ticks": ""
             }
            },
            "type": "scattermapbox"
           }
          ],
          "scatterpolar": [
           {
            "marker": {
             "colorbar": {
              "outlinewidth": 0,
              "ticks": ""
             }
            },
            "type": "scatterpolar"
           }
          ],
          "scatterpolargl": [
           {
            "marker": {
             "colorbar": {
              "outlinewidth": 0,
              "ticks": ""
             }
            },
            "type": "scatterpolargl"
           }
          ],
          "scatterternary": [
           {
            "marker": {
             "colorbar": {
              "outlinewidth": 0,
              "ticks": ""
             }
            },
            "type": "scatterternary"
           }
          ],
          "surface": [
           {
            "colorbar": {
             "outlinewidth": 0,
             "ticks": ""
            },
            "colorscale": [
             [
              0,
              "#0d0887"
             ],
             [
              0.1111111111111111,
              "#46039f"
             ],
             [
              0.2222222222222222,
              "#7201a8"
             ],
             [
              0.3333333333333333,
              "#9c179e"
             ],
             [
              0.4444444444444444,
              "#bd3786"
             ],
             [
              0.5555555555555556,
              "#d8576b"
             ],
             [
              0.6666666666666666,
              "#ed7953"
             ],
             [
              0.7777777777777778,
              "#fb9f3a"
             ],
             [
              0.8888888888888888,
              "#fdca26"
             ],
             [
              1,
              "#f0f921"
             ]
            ],
            "type": "surface"
           }
          ],
          "table": [
           {
            "cells": {
             "fill": {
              "color": "#EBF0F8"
             },
             "line": {
              "color": "white"
             }
            },
            "header": {
             "fill": {
              "color": "#C8D4E3"
             },
             "line": {
              "color": "white"
             }
            },
            "type": "table"
           }
          ]
         },
         "layout": {
          "annotationdefaults": {
           "arrowcolor": "#2a3f5f",
           "arrowhead": 0,
           "arrowwidth": 1
          },
          "autotypenumbers": "strict",
          "coloraxis": {
           "colorbar": {
            "outlinewidth": 0,
            "ticks": ""
           }
          },
          "colorscale": {
           "diverging": [
            [
             0,
             "#8e0152"
            ],
            [
             0.1,
             "#c51b7d"
            ],
            [
             0.2,
             "#de77ae"
            ],
            [
             0.3,
             "#f1b6da"
            ],
            [
             0.4,
             "#fde0ef"
            ],
            [
             0.5,
             "#f7f7f7"
            ],
            [
             0.6,
             "#e6f5d0"
            ],
            [
             0.7,
             "#b8e186"
            ],
            [
             0.8,
             "#7fbc41"
            ],
            [
             0.9,
             "#4d9221"
            ],
            [
             1,
             "#276419"
            ]
           ],
           "sequential": [
            [
             0,
             "#0d0887"
            ],
            [
             0.1111111111111111,
             "#46039f"
            ],
            [
             0.2222222222222222,
             "#7201a8"
            ],
            [
             0.3333333333333333,
             "#9c179e"
            ],
            [
             0.4444444444444444,
             "#bd3786"
            ],
            [
             0.5555555555555556,
             "#d8576b"
            ],
            [
             0.6666666666666666,
             "#ed7953"
            ],
            [
             0.7777777777777778,
             "#fb9f3a"
            ],
            [
             0.8888888888888888,
             "#fdca26"
            ],
            [
             1,
             "#f0f921"
            ]
           ],
           "sequentialminus": [
            [
             0,
             "#0d0887"
            ],
            [
             0.1111111111111111,
             "#46039f"
            ],
            [
             0.2222222222222222,
             "#7201a8"
            ],
            [
             0.3333333333333333,
             "#9c179e"
            ],
            [
             0.4444444444444444,
             "#bd3786"
            ],
            [
             0.5555555555555556,
             "#d8576b"
            ],
            [
             0.6666666666666666,
             "#ed7953"
            ],
            [
             0.7777777777777778,
             "#fb9f3a"
            ],
            [
             0.8888888888888888,
             "#fdca26"
            ],
            [
             1,
             "#f0f921"
            ]
           ]
          },
          "colorway": [
           "#636efa",
           "#EF553B",
           "#00cc96",
           "#ab63fa",
           "#FFA15A",
           "#19d3f3",
           "#FF6692",
           "#B6E880",
           "#FF97FF",
           "#FECB52"
          ],
          "font": {
           "color": "#2a3f5f"
          },
          "geo": {
           "bgcolor": "white",
           "lakecolor": "white",
           "landcolor": "#E5ECF6",
           "showlakes": true,
           "showland": true,
           "subunitcolor": "white"
          },
          "hoverlabel": {
           "align": "left"
          },
          "hovermode": "closest",
          "mapbox": {
           "style": "light"
          },
          "paper_bgcolor": "white",
          "plot_bgcolor": "#E5ECF6",
          "polar": {
           "angularaxis": {
            "gridcolor": "white",
            "linecolor": "white",
            "ticks": ""
           },
           "bgcolor": "#E5ECF6",
           "radialaxis": {
            "gridcolor": "white",
            "linecolor": "white",
            "ticks": ""
           }
          },
          "scene": {
           "xaxis": {
            "backgroundcolor": "#E5ECF6",
            "gridcolor": "white",
            "gridwidth": 2,
            "linecolor": "white",
            "showbackground": true,
            "ticks": "",
            "zerolinecolor": "white"
           },
           "yaxis": {
            "backgroundcolor": "#E5ECF6",
            "gridcolor": "white",
            "gridwidth": 2,
            "linecolor": "white",
            "showbackground": true,
            "ticks": "",
            "zerolinecolor": "white"
           },
           "zaxis": {
            "backgroundcolor": "#E5ECF6",
            "gridcolor": "white",
            "gridwidth": 2,
            "linecolor": "white",
            "showbackground": true,
            "ticks": "",
            "zerolinecolor": "white"
           }
          },
          "shapedefaults": {
           "line": {
            "color": "#2a3f5f"
           }
          },
          "ternary": {
           "aaxis": {
            "gridcolor": "white",
            "linecolor": "white",
            "ticks": ""
           },
           "baxis": {
            "gridcolor": "white",
            "linecolor": "white",
            "ticks": ""
           },
           "bgcolor": "#E5ECF6",
           "caxis": {
            "gridcolor": "white",
            "linecolor": "white",
            "ticks": ""
           }
          },
          "title": {
           "x": 0.05
          },
          "xaxis": {
           "automargin": true,
           "gridcolor": "white",
           "linecolor": "white",
           "ticks": "",
           "title": {
            "standoff": 15
           },
           "zerolinecolor": "white",
           "zerolinewidth": 2
          },
          "yaxis": {
           "automargin": true,
           "gridcolor": "white",
           "linecolor": "white",
           "ticks": "",
           "title": {
            "standoff": 15
           },
           "zerolinecolor": "white",
           "zerolinewidth": 2
          }
         }
        },
        "title": {
         "text": "DBSCAN Clustering (3D PCA Reduced)"
        }
       }
      }
     },
     "metadata": {},
     "output_type": "display_data"
    }
   ],
   "source": [
    "from sklearn.decomposition import PCA\n",
    "import plotly.express as px\n",
    "\n",
    "# PCA with 3 components for 3D visualization\n",
    "pca = PCA(n_components=3)\n",
    "components = pca.fit_transform(X_scaled)\n",
    "df['PC1'] = components[:, 0]\n",
    "df['PC2'] = components[:, 1]\n",
    "df['PC3'] = components[:, 2]\n",
    "\n",
    "# 3D scatter plot for KMeans clusters\n",
    "fig = px.scatter_3d(df, x='PC1', y='PC2', z='PC3',\n",
    "                    color=df['KMeans_Cluster'].astype(str),\n",
    "                    title='KMeans Clustering (3D PCA Reduced)',\n",
    "                    labels={'color': 'Cluster'})\n",
    "fig.show()\n",
    "\n",
    "# 3D scatter plot for Hierarchical clusters\n",
    "fig = px.scatter_3d(df, x='PC1', y='PC2', z='PC3',\n",
    "                    color=df['Hierarchical_Cluster'].astype(str),\n",
    "                    title='Hierarchical Clustering (3D PCA Reduced)',\n",
    "                    labels={'color': 'Cluster'})\n",
    "fig.show()\n",
    "\n",
    "# 3D scatter plot for DBSCAN clusters\n",
    "fig = px.scatter_3d(df, x='PC1', y='PC2', z='PC3',\n",
    "                    color=df['DBSCAN_Cluster'].astype(str),\n",
    "                    title='DBSCAN Clustering (3D PCA Reduced)',\n",
    "                    labels={'color': 'Cluster'})\n",
    "fig.show()\n"
   ]
  },
  {
   "cell_type": "code",
   "execution_count": 9,
   "id": "6203e1e3",
   "metadata": {},
   "outputs": [
    {
     "data": {
      "application/vnd.jupyter.widget-view+json": {
       "model_id": "c60c98696f9c4302ba35963a3076c8ed",
       "version_major": 2,
       "version_minor": 0
      },
      "text/plain": [
       "VBox(children=(Dropdown(description='Method:', options=('KMeans', 'Hierarchical', 'DBSCAN'), value='KMeans'), …"
      ]
     },
     "metadata": {},
     "output_type": "display_data"
    },
    {
     "data": {
      "application/vnd.jupyter.widget-view+json": {
       "model_id": "f1c269a732954fbdafdcec47d1276f34",
       "version_major": 2,
       "version_minor": 0
      },
      "text/plain": [
       "Output()"
      ]
     },
     "metadata": {},
     "output_type": "display_data"
    }
   ],
   "source": [
    "import pandas as pd\n",
    "from sklearn.preprocessing import StandardScaler\n",
    "from sklearn.cluster import KMeans, AgglomerativeClustering, DBSCAN\n",
    "from sklearn.decomposition import PCA\n",
    "import plotly.express as px\n",
    "import ipywidgets as widgets\n",
    "from IPython.display import display, clear_output\n",
    "\n",
    "# Assuming df and X_scaled already prepared from your dataset\n",
    "\n",
    "# Compute PCA with 3 components (store in df)\n",
    "pca = PCA(n_components=3)\n",
    "components = pca.fit_transform(X_scaled)\n",
    "df['PC1'], df['PC2'], df['PC3'] = components[:, 0], components[:, 1], components[:, 2]\n",
    "\n",
    "# Prepare widgets\n",
    "methods = ['KMeans', 'Hierarchical', 'DBSCAN']\n",
    "method_dropdown = widgets.Dropdown(options=methods, value='KMeans', description='Method:')\n",
    "cluster_slider = widgets.IntSlider(value=4, min=2, max=10, description='Clusters:')\n",
    "axis_options = ['PC1', 'PC2', 'PC3']\n",
    "x_dropdown = widgets.Dropdown(options=axis_options, value='PC1', description='X-axis:')\n",
    "y_dropdown = widgets.Dropdown(options=axis_options, value='PC2', description='Y-axis:')\n",
    "z_dropdown = widgets.Dropdown(options=axis_options, value='PC3', description='Z-axis:')\n",
    "output_plot = widgets.Output()\n",
    "\n",
    "def run_clustering(method, n_clusters):\n",
    "    if method == 'KMeans':\n",
    "        model = KMeans(n_clusters=n_clusters, random_state=42)\n",
    "        labels = model.fit_predict(X_scaled)\n",
    "    elif method == 'Hierarchical':\n",
    "        model = AgglomerativeClustering(n_clusters=n_clusters)\n",
    "        labels = model.fit_predict(X_scaled)\n",
    "    elif method == 'DBSCAN':\n",
    "        model = DBSCAN(eps=1.3, min_samples=4)\n",
    "        labels = model.fit_predict(X_scaled)\n",
    "    else:\n",
    "        labels = [-1] * len(df)\n",
    "    return labels\n",
    "\n",
    "def update_plot(change=None):\n",
    "    with output_plot:\n",
    "        clear_output(wait=True)\n",
    "        method = method_dropdown.value\n",
    "        n_clusters = cluster_slider.value\n",
    "        x_axis = x_dropdown.value\n",
    "        y_axis = y_dropdown.value\n",
    "        z_axis = z_dropdown.value\n",
    "        \n",
    "        # For DBSCAN, ignore cluster slider\n",
    "        if method == 'DBSCAN':\n",
    "            cluster_slider.layout.display = 'none'\n",
    "        else:\n",
    "            cluster_slider.layout.display = 'block'\n",
    "        \n",
    "        labels = run_clustering(method, n_clusters)\n",
    "        df['Cluster'] = labels.astype(str)\n",
    "        \n",
    "        fig = px.scatter_3d(df, x=x_axis, y=y_axis, z=z_axis,\n",
    "                            color='Cluster',\n",
    "                            title=f'{method} Clustering on PCA Components',\n",
    "                            labels={'Cluster': 'Cluster'})\n",
    "        fig.show()\n",
    "\n",
    "# Attach widget events\n",
    "method_dropdown.observe(update_plot, names='value')\n",
    "cluster_slider.observe(update_plot, names='value')\n",
    "x_dropdown.observe(update_plot, names='value')\n",
    "y_dropdown.observe(update_plot, names='value')\n",
    "z_dropdown.observe(update_plot, names='value')\n",
    "\n",
    "# Display controls and output\n",
    "controls = widgets.VBox([\n",
    "    method_dropdown,\n",
    "    cluster_slider,\n",
    "    widgets.HBox([x_dropdown, y_dropdown, z_dropdown])\n",
    "])\n",
    "\n",
    "display(controls, output_plot)\n",
    "update_plot()\n"
   ]
  }
 ],
 "metadata": {
  "kernelspec": {
   "display_name": "Python 3",
   "language": "python",
   "name": "python3"
  },
  "language_info": {
   "codemirror_mode": {
    "name": "ipython",
    "version": 3
   },
   "file_extension": ".py",
   "mimetype": "text/x-python",
   "name": "python",
   "nbconvert_exporter": "python",
   "pygments_lexer": "ipython3",
   "version": "3.11.9"
  }
 },
 "nbformat": 4,
 "nbformat_minor": 5
}
